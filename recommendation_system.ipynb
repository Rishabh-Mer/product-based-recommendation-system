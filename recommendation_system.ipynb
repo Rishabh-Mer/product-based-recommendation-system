{
 "cells": [
  {
   "cell_type": "code",
   "execution_count": 3,
   "metadata": {},
   "outputs": [
    {
     "name": "stderr",
     "output_type": "stream",
     "text": [
      "/opt/anaconda3/envs/dl/lib/python3.9/site-packages/fuzzywuzzy/fuzz.py:11: UserWarning: Using slow pure-python SequenceMatcher. Install python-Levenshtein to remove this warning\n",
      "  warnings.warn('Using slow pure-python SequenceMatcher. Install python-Levenshtein to remove this warning')\n"
     ]
    }
   ],
   "source": [
    "import pandas as pd\n",
    "import numpy as np\n",
    "import matplotlib.pyplot as plt\n",
    "import seaborn as sns\n",
    "\n",
    "%matplotlib inline\n",
    "\n",
    "from collections import Counter\n",
    "from random import randint, uniform\n",
    "\n",
    "\n",
    "from scipy.sparse import csr_matrix\n",
    "from sklearn.neighbors import NearestNeighbors\n",
    "from sklearn.metrics.pairwise import cosine_similarity\n",
    "\n",
    "from fuzzywuzzy import process"
   ]
  },
  {
   "cell_type": "markdown",
   "metadata": {},
   "source": [
    "### Loading Dataset"
   ]
  },
  {
   "cell_type": "code",
   "execution_count": 5,
   "metadata": {},
   "outputs": [
    {
     "data": {
      "text/html": [
       "<div>\n",
       "<style scoped>\n",
       "    .dataframe tbody tr th:only-of-type {\n",
       "        vertical-align: middle;\n",
       "    }\n",
       "\n",
       "    .dataframe tbody tr th {\n",
       "        vertical-align: top;\n",
       "    }\n",
       "\n",
       "    .dataframe thead th {\n",
       "        text-align: right;\n",
       "    }\n",
       "</style>\n",
       "<table border=\"1\" class=\"dataframe\">\n",
       "  <thead>\n",
       "    <tr style=\"text-align: right;\">\n",
       "      <th></th>\n",
       "      <th>Unnamed: 0</th>\n",
       "      <th>name</th>\n",
       "      <th>main_category</th>\n",
       "      <th>sub_category</th>\n",
       "      <th>image</th>\n",
       "      <th>link</th>\n",
       "      <th>ratings</th>\n",
       "      <th>no_of_ratings</th>\n",
       "      <th>discount_price</th>\n",
       "      <th>actual_price</th>\n",
       "    </tr>\n",
       "  </thead>\n",
       "  <tbody>\n",
       "    <tr>\n",
       "      <th>0</th>\n",
       "      <td>0</td>\n",
       "      <td>Lloyd 1.5 Ton 3 Star Inverter Split Ac (5 In 1...</td>\n",
       "      <td>appliances</td>\n",
       "      <td>Air Conditioners</td>\n",
       "      <td>https://m.media-amazon.com/images/I/31UISB90sY...</td>\n",
       "      <td>https://www.amazon.in/Lloyd-Inverter-Convertib...</td>\n",
       "      <td>4.2</td>\n",
       "      <td>2,255</td>\n",
       "      <td>₹32,999</td>\n",
       "      <td>₹58,990</td>\n",
       "    </tr>\n",
       "    <tr>\n",
       "      <th>1</th>\n",
       "      <td>1</td>\n",
       "      <td>LG 1.5 Ton 5 Star AI DUAL Inverter Split AC (C...</td>\n",
       "      <td>appliances</td>\n",
       "      <td>Air Conditioners</td>\n",
       "      <td>https://m.media-amazon.com/images/I/51JFb7FctD...</td>\n",
       "      <td>https://www.amazon.in/LG-Convertible-Anti-Viru...</td>\n",
       "      <td>4.2</td>\n",
       "      <td>2,948</td>\n",
       "      <td>₹46,490</td>\n",
       "      <td>₹75,990</td>\n",
       "    </tr>\n",
       "    <tr>\n",
       "      <th>2</th>\n",
       "      <td>2</td>\n",
       "      <td>LG 1 Ton 4 Star Ai Dual Inverter Split Ac (Cop...</td>\n",
       "      <td>appliances</td>\n",
       "      <td>Air Conditioners</td>\n",
       "      <td>https://m.media-amazon.com/images/I/51JFb7FctD...</td>\n",
       "      <td>https://www.amazon.in/LG-Inverter-Convertible-...</td>\n",
       "      <td>4.2</td>\n",
       "      <td>1,206</td>\n",
       "      <td>₹34,490</td>\n",
       "      <td>₹61,990</td>\n",
       "    </tr>\n",
       "    <tr>\n",
       "      <th>3</th>\n",
       "      <td>3</td>\n",
       "      <td>LG 1.5 Ton 3 Star AI DUAL Inverter Split AC (C...</td>\n",
       "      <td>appliances</td>\n",
       "      <td>Air Conditioners</td>\n",
       "      <td>https://m.media-amazon.com/images/I/51JFb7FctD...</td>\n",
       "      <td>https://www.amazon.in/LG-Convertible-Anti-Viru...</td>\n",
       "      <td>4.0</td>\n",
       "      <td>69</td>\n",
       "      <td>₹37,990</td>\n",
       "      <td>₹68,990</td>\n",
       "    </tr>\n",
       "    <tr>\n",
       "      <th>4</th>\n",
       "      <td>4</td>\n",
       "      <td>Carrier 1.5 Ton 3 Star Inverter Split AC (Copp...</td>\n",
       "      <td>appliances</td>\n",
       "      <td>Air Conditioners</td>\n",
       "      <td>https://m.media-amazon.com/images/I/41lrtqXPiW...</td>\n",
       "      <td>https://www.amazon.in/Carrier-Inverter-Split-C...</td>\n",
       "      <td>4.1</td>\n",
       "      <td>630</td>\n",
       "      <td>₹34,490</td>\n",
       "      <td>₹67,790</td>\n",
       "    </tr>\n",
       "  </tbody>\n",
       "</table>\n",
       "</div>"
      ],
      "text/plain": [
       "   Unnamed: 0                                               name   \n",
       "0           0  Lloyd 1.5 Ton 3 Star Inverter Split Ac (5 In 1...  \\\n",
       "1           1  LG 1.5 Ton 5 Star AI DUAL Inverter Split AC (C...   \n",
       "2           2  LG 1 Ton 4 Star Ai Dual Inverter Split Ac (Cop...   \n",
       "3           3  LG 1.5 Ton 3 Star AI DUAL Inverter Split AC (C...   \n",
       "4           4  Carrier 1.5 Ton 3 Star Inverter Split AC (Copp...   \n",
       "\n",
       "  main_category      sub_category   \n",
       "0    appliances  Air Conditioners  \\\n",
       "1    appliances  Air Conditioners   \n",
       "2    appliances  Air Conditioners   \n",
       "3    appliances  Air Conditioners   \n",
       "4    appliances  Air Conditioners   \n",
       "\n",
       "                                               image   \n",
       "0  https://m.media-amazon.com/images/I/31UISB90sY...  \\\n",
       "1  https://m.media-amazon.com/images/I/51JFb7FctD...   \n",
       "2  https://m.media-amazon.com/images/I/51JFb7FctD...   \n",
       "3  https://m.media-amazon.com/images/I/51JFb7FctD...   \n",
       "4  https://m.media-amazon.com/images/I/41lrtqXPiW...   \n",
       "\n",
       "                                                link ratings no_of_ratings   \n",
       "0  https://www.amazon.in/Lloyd-Inverter-Convertib...     4.2         2,255  \\\n",
       "1  https://www.amazon.in/LG-Convertible-Anti-Viru...     4.2         2,948   \n",
       "2  https://www.amazon.in/LG-Inverter-Convertible-...     4.2         1,206   \n",
       "3  https://www.amazon.in/LG-Convertible-Anti-Viru...     4.0            69   \n",
       "4  https://www.amazon.in/Carrier-Inverter-Split-C...     4.1           630   \n",
       "\n",
       "  discount_price actual_price  \n",
       "0        ₹32,999      ₹58,990  \n",
       "1        ₹46,490      ₹75,990  \n",
       "2        ₹34,490      ₹61,990  \n",
       "3        ₹37,990      ₹68,990  \n",
       "4        ₹34,490      ₹67,790  "
      ]
     },
     "execution_count": 5,
     "metadata": {},
     "output_type": "execute_result"
    }
   ],
   "source": [
    "products = pd.read_csv('Amazon-Products.csv')\n",
    "products.head(5)"
   ]
  },
  {
   "cell_type": "code",
   "execution_count": 6,
   "metadata": {},
   "outputs": [
    {
     "data": {
      "text/plain": [
       "(551585, 10)"
      ]
     },
     "execution_count": 6,
     "metadata": {},
     "output_type": "execute_result"
    }
   ],
   "source": [
    "products.shape"
   ]
  },
  {
   "cell_type": "code",
   "execution_count": 7,
   "metadata": {},
   "outputs": [],
   "source": [
    "# Removing uncessary columns -> (Unnamed: 0, image, link)\n",
    "products.drop(columns=['Unnamed: 0', 'image', 'link'], inplace=True)\n",
    "\n"
   ]
  },
  {
   "cell_type": "code",
   "execution_count": 8,
   "metadata": {},
   "outputs": [
    {
     "name": "stdout",
     "output_type": "stream",
     "text": [
      "Total null value in product table:\n",
      "name                   0\n",
      "main_category          0\n",
      "sub_category           0\n",
      "ratings           175794\n",
      "no_of_ratings     175794\n",
      "discount_price     61163\n",
      "actual_price       17813\n",
      "dtype: int64\n"
     ]
    }
   ],
   "source": [
    "# Total null values\n",
    "print(f\"Total null value in product table:\\n{products.isnull().sum()}\")"
   ]
  },
  {
   "cell_type": "code",
   "execution_count": 9,
   "metadata": {},
   "outputs": [
    {
     "name": "stdout",
     "output_type": "stream",
     "text": [
      "<class 'pandas.core.frame.DataFrame'>\n",
      "RangeIndex: 551585 entries, 0 to 551584\n",
      "Data columns (total 7 columns):\n",
      " #   Column          Non-Null Count   Dtype \n",
      "---  ------          --------------   ----- \n",
      " 0   name            551585 non-null  object\n",
      " 1   main_category   551585 non-null  object\n",
      " 2   sub_category    551585 non-null  object\n",
      " 3   ratings         375791 non-null  object\n",
      " 4   no_of_ratings   375791 non-null  object\n",
      " 5   discount_price  490422 non-null  object\n",
      " 6   actual_price    533772 non-null  object\n",
      "dtypes: object(7)\n",
      "memory usage: 29.5+ MB\n"
     ]
    }
   ],
   "source": [
    "products.info()\n"
   ]
  },
  {
   "cell_type": "code",
   "execution_count": 10,
   "metadata": {},
   "outputs": [
    {
     "data": {
      "text/plain": [
       "main_category\n",
       "accessories                116141\n",
       "men's clothing              76656\n",
       "women's clothing            76512\n",
       "tv, audio & cameras         68659\n",
       "men's shoes                 57456\n",
       "appliances                  33096\n",
       "stores                      32903\n",
       "home & kitchen              14568\n",
       "kids' fashion               13488\n",
       "sports & fitness            12648\n",
       "bags & luggage              10416\n",
       "beauty & health             10122\n",
       "car & motorbike              7080\n",
       "toys & baby products         6216\n",
       "women's shoes                5472\n",
       "industrial supplies          4104\n",
       "grocery & gourmet foods      3312\n",
       "pet supplies                 1632\n",
       "music                        1080\n",
       "home, kitchen, pets            24\n",
       "Name: count, dtype: int64"
      ]
     },
     "execution_count": 10,
     "metadata": {},
     "output_type": "execute_result"
    }
   ],
   "source": [
    "products['main_category'].value_counts()"
   ]
  },
  {
   "cell_type": "code",
   "execution_count": 11,
   "metadata": {},
   "outputs": [],
   "source": [
    "products = products.groupby('main_category').apply(lambda x:x.head(2500))"
   ]
  },
  {
   "cell_type": "code",
   "execution_count": 12,
   "metadata": {},
   "outputs": [
    {
     "data": {
      "text/plain": [
       "(45236, 7)"
      ]
     },
     "execution_count": 12,
     "metadata": {},
     "output_type": "execute_result"
    }
   ],
   "source": [
    "products.reset_index(drop=True, inplace=True)\n",
    "products.shape"
   ]
  },
  {
   "cell_type": "markdown",
   "metadata": {},
   "source": [
    "### Data Pre-Processing"
   ]
  },
  {
   "cell_type": "code",
   "execution_count": 13,
   "metadata": {},
   "outputs": [
    {
     "name": "stdout",
     "output_type": "stream",
     "text": [
      "Unique values of ratings:\n",
      "['3.9' '4.5' '4.3' '4.4' '4.1' '4.0' '4.2' '4.7' '3.7' '3.5' '3.8' '4.6'\n",
      " '4.9' '2.9' '3.2' '3.6' '4.8' '3.4' '3.3' '5.0' nan '3.0' '1.0' '2.4'\n",
      " '3.1' '2.8' '2.5' '2.7' '2.6' 'FREE' '2.3' '1.7' 'Get' '1.8' '2.2' '1.6'\n",
      " '1.9' '2.0' '1.4' '1.5' '2.1' '1.3' '1.2' '₹68.99']\n",
      "Unique values of no_of_ratings:\n",
      "['18,662' '453' '15,905' ... '8,483' 'Usually dispatched in 3 to 4 weeks.'\n",
      " '4,605']\n"
     ]
    }
   ],
   "source": [
    "# unique values of ratings column\n",
    "print(f\"Unique values of ratings:\\n{products['ratings'].unique()}\")\n",
    "# unique values of no_of_ratings column\n",
    "print(f\"Unique values of no_of_ratings:\\n{products['no_of_ratings'].unique()}\")\n",
    "\n"
   ]
  },
  {
   "cell_type": "code",
   "execution_count": 14,
   "metadata": {},
   "outputs": [],
   "source": [
    "products['no_of_ratings'] = products['no_of_ratings'].str.replace(\",\",\"\")\n",
    "products['no_of_ratings'] = pd.to_numeric(products['no_of_ratings'], errors=\"coerce\", downcast=\"integer\")"
   ]
  },
  {
   "cell_type": "code",
   "execution_count": 15,
   "metadata": {},
   "outputs": [],
   "source": [
    "products = products.replace({\n",
    "    'ratings': {r'₹\\w+[.]\\w+':'3.0', r'FREE':'3.0', r'Get':'3.0', r'₹\\w+':'3.0'},\n",
    "}, regex=True)"
   ]
  },
  {
   "cell_type": "code",
   "execution_count": 16,
   "metadata": {},
   "outputs": [
    {
     "name": "stdout",
     "output_type": "stream",
     "text": [
      "Updated values of ratings:\n",
      "['3.9' '4.5' '4.3' '4.4' '4.1' '4.0' '4.2' '4.7' '3.7' '3.5' '3.8' '4.6'\n",
      " '4.9' '2.9' '3.2' '3.6' '4.8' '3.4' '3.3' '5.0' nan '3.0' '1.0' '2.4'\n",
      " '3.1' '2.8' '2.5' '2.7' '2.6' '2.3' '1.7' '1.8' '2.2' '1.6' '1.9' '2.0'\n",
      " '1.4' '1.5' '2.1' '1.3' '1.2']\n"
     ]
    }
   ],
   "source": [
    "print(f\"Updated values of ratings:\\n{products['ratings'].unique()}\")"
   ]
  },
  {
   "cell_type": "code",
   "execution_count": 17,
   "metadata": {},
   "outputs": [],
   "source": [
    "products['ratings'] = pd.to_numeric(products['ratings'], errors='coerce', downcast='integer')"
   ]
  },
  {
   "cell_type": "code",
   "execution_count": 18,
   "metadata": {},
   "outputs": [],
   "source": [
    "# Handling Null values\n",
    "products['ratings'].fillna(round(products['ratings'].mean(),1), inplace=True)\n",
    "products['no_of_ratings'].fillna(round(products['no_of_ratings'].mean()), inplace=True)"
   ]
  },
  {
   "cell_type": "code",
   "execution_count": 19,
   "metadata": {},
   "outputs": [],
   "source": [
    "products['actual_price'] = pd.to_numeric(products['actual_price'].str.replace(\"₹\",\"\").str.replace(\",\",\"\"), errors='coerce', downcast='integer')\n",
    "products['discount_price'] = pd.to_numeric(products['discount_price'].str.replace(\"₹\",\"\").str.replace(\",\",\"\"), errors='coerce', downcast='integer')"
   ]
  },
  {
   "cell_type": "code",
   "execution_count": 20,
   "metadata": {},
   "outputs": [
    {
     "name": "stdout",
     "output_type": "stream",
     "text": [
      "Total null values in actual price column: 883\n",
      "Total null values in discount price column: 4818\n"
     ]
    }
   ],
   "source": [
    "print(f\"Total null values in actual price column: {products['actual_price'].isnull().sum()}\")\n",
    "print(f\"Total null values in discount price column: {products['discount_price'].isnull().sum()}\")"
   ]
  },
  {
   "cell_type": "code",
   "execution_count": 21,
   "metadata": {},
   "outputs": [
    {
     "name": "stdout",
     "output_type": "stream",
     "text": [
      "Mean of actual price column: 2941\n",
      "Mean of discount price column: 1729\n"
     ]
    }
   ],
   "source": [
    "print(f\"Mean of actual price column: {round(products['actual_price'].mean())}\")\n",
    "print(f\"Mean of discount price column: {round(products['discount_price'].mean())}\")"
   ]
  },
  {
   "cell_type": "code",
   "execution_count": 22,
   "metadata": {},
   "outputs": [
    {
     "data": {
      "text/html": [
       "<div>\n",
       "<style scoped>\n",
       "    .dataframe tbody tr th:only-of-type {\n",
       "        vertical-align: middle;\n",
       "    }\n",
       "\n",
       "    .dataframe tbody tr th {\n",
       "        vertical-align: top;\n",
       "    }\n",
       "\n",
       "    .dataframe thead th {\n",
       "        text-align: right;\n",
       "    }\n",
       "</style>\n",
       "<table border=\"1\" class=\"dataframe\">\n",
       "  <thead>\n",
       "    <tr style=\"text-align: right;\">\n",
       "      <th></th>\n",
       "      <th>sub_category</th>\n",
       "      <th>actual_price</th>\n",
       "      <th>discount_price</th>\n",
       "    </tr>\n",
       "  </thead>\n",
       "  <tbody>\n",
       "    <tr>\n",
       "      <th>0</th>\n",
       "      <td>Air Conditioners</td>\n",
       "      <td>54815.0</td>\n",
       "      <td>40756.0</td>\n",
       "    </tr>\n",
       "    <tr>\n",
       "      <th>1</th>\n",
       "      <td>All Appliances</td>\n",
       "      <td>7017.0</td>\n",
       "      <td>4532.0</td>\n",
       "    </tr>\n",
       "    <tr>\n",
       "      <th>2</th>\n",
       "      <td>All Car &amp; Motorbike Products</td>\n",
       "      <td>1603.0</td>\n",
       "      <td>889.0</td>\n",
       "    </tr>\n",
       "    <tr>\n",
       "      <th>3</th>\n",
       "      <td>All Electronics</td>\n",
       "      <td>5419.0</td>\n",
       "      <td>3086.0</td>\n",
       "    </tr>\n",
       "    <tr>\n",
       "      <th>4</th>\n",
       "      <td>All Exercise &amp; Fitness</td>\n",
       "      <td>2156.0</td>\n",
       "      <td>979.0</td>\n",
       "    </tr>\n",
       "    <tr>\n",
       "      <th>5</th>\n",
       "      <td>All Grocery &amp; Gourmet Foods</td>\n",
       "      <td>511.0</td>\n",
       "      <td>387.0</td>\n",
       "    </tr>\n",
       "    <tr>\n",
       "      <th>6</th>\n",
       "      <td>All Home &amp; Kitchen</td>\n",
       "      <td>2238.0</td>\n",
       "      <td>1275.0</td>\n",
       "    </tr>\n",
       "    <tr>\n",
       "      <th>7</th>\n",
       "      <td>All Pet Supplies</td>\n",
       "      <td>1058.0</td>\n",
       "      <td>670.0</td>\n",
       "    </tr>\n",
       "    <tr>\n",
       "      <th>8</th>\n",
       "      <td>All Sports, Fitness &amp; Outdoors</td>\n",
       "      <td>2381.0</td>\n",
       "      <td>1207.0</td>\n",
       "    </tr>\n",
       "    <tr>\n",
       "      <th>9</th>\n",
       "      <td>Amazon Fashion</td>\n",
       "      <td>1939.0</td>\n",
       "      <td>906.0</td>\n",
       "    </tr>\n",
       "    <tr>\n",
       "      <th>10</th>\n",
       "      <td>Baby Bath, Skin &amp; Grooming</td>\n",
       "      <td>1046.0</td>\n",
       "      <td>619.0</td>\n",
       "    </tr>\n",
       "    <tr>\n",
       "      <th>11</th>\n",
       "      <td>Baby Fashion</td>\n",
       "      <td>1286.0</td>\n",
       "      <td>558.0</td>\n",
       "    </tr>\n",
       "    <tr>\n",
       "      <th>12</th>\n",
       "      <td>Baby Products</td>\n",
       "      <td>1188.0</td>\n",
       "      <td>674.0</td>\n",
       "    </tr>\n",
       "    <tr>\n",
       "      <th>13</th>\n",
       "      <td>Backpacks</td>\n",
       "      <td>3490.0</td>\n",
       "      <td>1786.0</td>\n",
       "    </tr>\n",
       "    <tr>\n",
       "      <th>14</th>\n",
       "      <td>Badminton</td>\n",
       "      <td>2591.0</td>\n",
       "      <td>1874.0</td>\n",
       "    </tr>\n",
       "    <tr>\n",
       "      <th>15</th>\n",
       "      <td>Bags &amp; Luggage</td>\n",
       "      <td>2486.0</td>\n",
       "      <td>970.0</td>\n",
       "    </tr>\n",
       "    <tr>\n",
       "      <th>16</th>\n",
       "      <td>Ballerinas</td>\n",
       "      <td>3108.0</td>\n",
       "      <td>1514.0</td>\n",
       "    </tr>\n",
       "    <tr>\n",
       "      <th>17</th>\n",
       "      <td>Beauty &amp; Grooming</td>\n",
       "      <td>740.0</td>\n",
       "      <td>451.0</td>\n",
       "    </tr>\n",
       "    <tr>\n",
       "      <th>18</th>\n",
       "      <td>Bedroom Linen</td>\n",
       "      <td>1885.0</td>\n",
       "      <td>864.0</td>\n",
       "    </tr>\n",
       "    <tr>\n",
       "      <th>19</th>\n",
       "      <td>Car &amp; Bike Care</td>\n",
       "      <td>2023.0</td>\n",
       "      <td>1165.0</td>\n",
       "    </tr>\n",
       "    <tr>\n",
       "      <th>20</th>\n",
       "      <td>Car Accessories</td>\n",
       "      <td>1488.0</td>\n",
       "      <td>795.0</td>\n",
       "    </tr>\n",
       "    <tr>\n",
       "      <th>21</th>\n",
       "      <td>Casual Shoes</td>\n",
       "      <td>3017.0</td>\n",
       "      <td>1498.0</td>\n",
       "    </tr>\n",
       "    <tr>\n",
       "      <th>22</th>\n",
       "      <td>Clothing</td>\n",
       "      <td>1727.0</td>\n",
       "      <td>483.0</td>\n",
       "    </tr>\n",
       "    <tr>\n",
       "      <th>23</th>\n",
       "      <td>Coffee, Tea &amp; Beverages</td>\n",
       "      <td>640.0</td>\n",
       "      <td>541.0</td>\n",
       "    </tr>\n",
       "    <tr>\n",
       "      <th>24</th>\n",
       "      <td>Diapers</td>\n",
       "      <td>1333.0</td>\n",
       "      <td>867.0</td>\n",
       "    </tr>\n",
       "    <tr>\n",
       "      <th>25</th>\n",
       "      <td>Diet &amp; Nutrition</td>\n",
       "      <td>1245.0</td>\n",
       "      <td>835.0</td>\n",
       "    </tr>\n",
       "    <tr>\n",
       "      <th>26</th>\n",
       "      <td>Dog supplies</td>\n",
       "      <td>1207.0</td>\n",
       "      <td>775.0</td>\n",
       "    </tr>\n",
       "    <tr>\n",
       "      <th>27</th>\n",
       "      <td>Fashion Sales &amp; Deals</td>\n",
       "      <td>3983.0</td>\n",
       "      <td>1032.0</td>\n",
       "    </tr>\n",
       "    <tr>\n",
       "      <th>28</th>\n",
       "      <td>Fashion Sandals</td>\n",
       "      <td>1712.0</td>\n",
       "      <td>853.0</td>\n",
       "    </tr>\n",
       "    <tr>\n",
       "      <th>29</th>\n",
       "      <td>Furniture</td>\n",
       "      <td>3420.0</td>\n",
       "      <td>1693.0</td>\n",
       "    </tr>\n",
       "    <tr>\n",
       "      <th>30</th>\n",
       "      <td>Industrial &amp; Scientific Supplies</td>\n",
       "      <td>1611.0</td>\n",
       "      <td>775.0</td>\n",
       "    </tr>\n",
       "    <tr>\n",
       "      <th>31</th>\n",
       "      <td>Innerwear</td>\n",
       "      <td>766.0</td>\n",
       "      <td>497.0</td>\n",
       "    </tr>\n",
       "    <tr>\n",
       "      <th>32</th>\n",
       "      <td>Janitorial &amp; Sanitation Supplies</td>\n",
       "      <td>1497.0</td>\n",
       "      <td>875.0</td>\n",
       "    </tr>\n",
       "    <tr>\n",
       "      <th>33</th>\n",
       "      <td>Kids' Clothing</td>\n",
       "      <td>1455.0</td>\n",
       "      <td>736.0</td>\n",
       "    </tr>\n",
       "    <tr>\n",
       "      <th>34</th>\n",
       "      <td>Lab &amp; Scientific</td>\n",
       "      <td>3265.0</td>\n",
       "      <td>1920.0</td>\n",
       "    </tr>\n",
       "    <tr>\n",
       "      <th>35</th>\n",
       "      <td>Men's Fashion</td>\n",
       "      <td>3112.0</td>\n",
       "      <td>1740.0</td>\n",
       "    </tr>\n",
       "    <tr>\n",
       "      <th>36</th>\n",
       "      <td>Musical Instruments &amp; Professional Audio</td>\n",
       "      <td>5622.0</td>\n",
       "      <td>3809.0</td>\n",
       "    </tr>\n",
       "    <tr>\n",
       "      <th>37</th>\n",
       "      <td>Refurbished &amp; Open Box</td>\n",
       "      <td>4468.0</td>\n",
       "      <td>3653.0</td>\n",
       "    </tr>\n",
       "    <tr>\n",
       "      <th>38</th>\n",
       "      <td>Rucksacks</td>\n",
       "      <td>4443.0</td>\n",
       "      <td>2225.0</td>\n",
       "    </tr>\n",
       "    <tr>\n",
       "      <th>39</th>\n",
       "      <td>Snack Foods</td>\n",
       "      <td>469.0</td>\n",
       "      <td>345.0</td>\n",
       "    </tr>\n",
       "  </tbody>\n",
       "</table>\n",
       "</div>"
      ],
      "text/plain": [
       "                                sub_category  actual_price  discount_price\n",
       "0                           Air Conditioners       54815.0         40756.0\n",
       "1                             All Appliances        7017.0          4532.0\n",
       "2               All Car & Motorbike Products        1603.0           889.0\n",
       "3                            All Electronics        5419.0          3086.0\n",
       "4                     All Exercise & Fitness        2156.0           979.0\n",
       "5                All Grocery & Gourmet Foods         511.0           387.0\n",
       "6                         All Home & Kitchen        2238.0          1275.0\n",
       "7                           All Pet Supplies        1058.0           670.0\n",
       "8             All Sports, Fitness & Outdoors        2381.0          1207.0\n",
       "9                             Amazon Fashion        1939.0           906.0\n",
       "10                Baby Bath, Skin & Grooming        1046.0           619.0\n",
       "11                              Baby Fashion        1286.0           558.0\n",
       "12                             Baby Products        1188.0           674.0\n",
       "13                                 Backpacks        3490.0          1786.0\n",
       "14                                 Badminton        2591.0          1874.0\n",
       "15                            Bags & Luggage        2486.0           970.0\n",
       "16                                Ballerinas        3108.0          1514.0\n",
       "17                         Beauty & Grooming         740.0           451.0\n",
       "18                             Bedroom Linen        1885.0           864.0\n",
       "19                           Car & Bike Care        2023.0          1165.0\n",
       "20                           Car Accessories        1488.0           795.0\n",
       "21                              Casual Shoes        3017.0          1498.0\n",
       "22                                  Clothing        1727.0           483.0\n",
       "23                   Coffee, Tea & Beverages         640.0           541.0\n",
       "24                                   Diapers        1333.0           867.0\n",
       "25                          Diet & Nutrition        1245.0           835.0\n",
       "26                              Dog supplies        1207.0           775.0\n",
       "27                     Fashion Sales & Deals        3983.0          1032.0\n",
       "28                           Fashion Sandals        1712.0           853.0\n",
       "29                                 Furniture        3420.0          1693.0\n",
       "30          Industrial & Scientific Supplies        1611.0           775.0\n",
       "31                                 Innerwear         766.0           497.0\n",
       "32          Janitorial & Sanitation Supplies        1497.0           875.0\n",
       "33                            Kids' Clothing        1455.0           736.0\n",
       "34                          Lab & Scientific        3265.0          1920.0\n",
       "35                             Men's Fashion        3112.0          1740.0\n",
       "36  Musical Instruments & Professional Audio        5622.0          3809.0\n",
       "37                    Refurbished & Open Box        4468.0          3653.0\n",
       "38                                 Rucksacks        4443.0          2225.0\n",
       "39                               Snack Foods         469.0           345.0"
      ]
     },
     "execution_count": 22,
     "metadata": {},
     "output_type": "execute_result"
    }
   ],
   "source": [
    "# Filling the null values based on sub category\n",
    "# grouping the rows by sub category,  find the mean -> replace the NULL values\n",
    "\n",
    "mean_actual_price_by_sub_category = round(products.groupby('sub_category')[['actual_price','discount_price']].mean()).reset_index()\n",
    "mean_actual_price_by_sub_category\n"
   ]
  },
  {
   "cell_type": "code",
   "execution_count": 23,
   "metadata": {},
   "outputs": [],
   "source": [
    "mean_actual_price_dict = mean_actual_price_by_sub_category.set_index('sub_category')['actual_price'].to_dict()\n",
    "mean_discount_price_dict = mean_actual_price_by_sub_category.set_index('sub_category')['discount_price'].to_dict()"
   ]
  },
  {
   "cell_type": "code",
   "execution_count": 24,
   "metadata": {},
   "outputs": [
    {
     "data": {
      "text/plain": [
       "{'Air Conditioners': 54815.0,\n",
       " 'All Appliances': 7017.0,\n",
       " 'All Car & Motorbike Products': 1603.0,\n",
       " 'All Electronics': 5419.0,\n",
       " 'All Exercise & Fitness': 2156.0,\n",
       " 'All Grocery & Gourmet Foods': 511.0,\n",
       " 'All Home & Kitchen': 2238.0,\n",
       " 'All Pet Supplies': 1058.0,\n",
       " 'All Sports, Fitness & Outdoors': 2381.0,\n",
       " 'Amazon Fashion': 1939.0,\n",
       " 'Baby Bath, Skin & Grooming': 1046.0,\n",
       " 'Baby Fashion': 1286.0,\n",
       " 'Baby Products': 1188.0,\n",
       " 'Backpacks': 3490.0,\n",
       " 'Badminton': 2591.0,\n",
       " 'Bags & Luggage': 2486.0,\n",
       " 'Ballerinas': 3108.0,\n",
       " 'Beauty & Grooming': 740.0,\n",
       " 'Bedroom Linen': 1885.0,\n",
       " 'Car & Bike Care': 2023.0,\n",
       " 'Car Accessories': 1488.0,\n",
       " 'Casual Shoes': 3017.0,\n",
       " 'Clothing': 1727.0,\n",
       " 'Coffee, Tea & Beverages': 640.0,\n",
       " 'Diapers': 1333.0,\n",
       " 'Diet & Nutrition': 1245.0,\n",
       " 'Dog supplies': 1207.0,\n",
       " 'Fashion Sales & Deals': 3983.0,\n",
       " 'Fashion Sandals': 1712.0,\n",
       " 'Furniture': 3420.0,\n",
       " 'Industrial & Scientific Supplies': 1611.0,\n",
       " 'Innerwear': 766.0,\n",
       " 'Janitorial & Sanitation Supplies': 1497.0,\n",
       " \"Kids' Clothing\": 1455.0,\n",
       " 'Lab & Scientific': 3265.0,\n",
       " \"Men's Fashion\": 3112.0,\n",
       " 'Musical Instruments & Professional Audio': 5622.0,\n",
       " 'Refurbished & Open Box': 4468.0,\n",
       " 'Rucksacks': 4443.0,\n",
       " 'Snack Foods': 469.0}"
      ]
     },
     "execution_count": 24,
     "metadata": {},
     "output_type": "execute_result"
    }
   ],
   "source": [
    "mean_actual_price_dict"
   ]
  },
  {
   "cell_type": "code",
   "execution_count": 25,
   "metadata": {},
   "outputs": [],
   "source": [
    "products['actual_price'] = products.apply(lambda x: x['actual_price'] if pd.notna(x['actual_price']) else mean_actual_price_dict.get(x['sub_category']), axis=1)\n",
    "products['discount_price'] = products.apply(lambda x: x['discount_price'] if pd.notna(x['discount_price']) else mean_discount_price_dict.get(x['sub_category']), axis=1)"
   ]
  },
  {
   "cell_type": "code",
   "execution_count": 26,
   "metadata": {},
   "outputs": [
    {
     "data": {
      "text/plain": [
       "name              0\n",
       "main_category     0\n",
       "sub_category      0\n",
       "ratings           0\n",
       "no_of_ratings     0\n",
       "discount_price    0\n",
       "actual_price      0\n",
       "dtype: int64"
      ]
     },
     "execution_count": 26,
     "metadata": {},
     "output_type": "execute_result"
    }
   ],
   "source": [
    "products.isnull().sum()"
   ]
  },
  {
   "cell_type": "markdown",
   "metadata": {},
   "source": [
    "##### Distribution of Products Ratings"
   ]
  },
  {
   "cell_type": "code",
   "execution_count": 27,
   "metadata": {},
   "outputs": [
    {
     "data": {
      "image/png": "[encoded data removed]",
      "text/plain": [
       "<Figure size 640x480 with 1 Axes>"
      ]
     },
     "metadata": {},
     "output_type": "display_data"
    }
   ],
   "source": [
    "sns.countplot(x='ratings', data=products)\n",
    "plt.title('Distribution of Product Ratings', fontsize=13)\n",
    "plt.xticks(rotation=90)\n",
    "plt.show()"
   ]
  },
  {
   "cell_type": "code",
   "execution_count": 28,
   "metadata": {},
   "outputs": [
    {
     "data": {
      "text/plain": [
       "name\n",
       "Backpack For Women's/Girls                                                                                                       93\n",
       "Generic Polyster Light Weight Laptop Bag / Laptop Backpack for Upto 15.6 inch Laptop                                             48\n",
       "Style Buy Style Women's Synthetic Casual & Party Bellies | Women's Ballet Flat                                                   30\n",
       "crocs Unisex-Adult Bayaband Clog Lemon/White Clog - 8 UK Men/ 9 UK Women (M9W11) (205089-7B0)                                    26\n",
       "Peter England Men Trunks                                                                                                         22\n",
       "ARVESA Monthly Birthday Milestone Special Unisex Baby Romper Onesies Dress Half Sleeve Envelope Neck                             21\n",
       "KAYU™ Boys Cotton Solid Regular Fit Capri 3/4th Pants {Pack of 5}                                                                19\n",
       "KAYU™ Boys Cotton Solid Regular Fit Capri 3/4th Pants {Pack of 4}                                                                19\n",
       "crocs unisex-adult Bayaband Clog LEMON/WHITE Clog - 8 UK Men/ 9 UK Women (M9W11) (205089-7B0)                                    17\n",
       "KAYU™ Boys Cotton Solid Regular Fit Capri 3/4th Pants {Pack of 2}                                                                15\n",
       "KAYU™ Womens Fleece Warm Neck Printed Kurtis for Winters [Pack of 4]                                                             15\n",
       "Fruit of the Loom Men's Hip Brief                                                                                                14\n",
       "Jack & Jones Men Trunks                                                                                                          11\n",
       "IndiWeaves� Boys Snowfall Solid Regular Fit Full Sleeves T-Shirts {Pack of 2}                                                    11\n",
       "STEFANOFOOT Stafanofoot Women's Flat Casual Stylish Comfotable Soft Bellies Juttis Daily Use Wear Combo Pack for 13Pair MK...    10\n",
       "Aerosoles Women's Final Score Ballet Flat                                                                                        10\n",
       "KAYU™ Womens Fleece Warm Neck Printed Kurtis for Winters [Pack of 2]                                                             10\n",
       "Nivia Ashtang Futsal Shoes for Turf Ground for Mens | Rubber Studs with PU Synthetic Leather Upper | Die Cut Light Weight ...     9\n",
       "Jack & Jones Men Boxer Shorts                                                                                                     9\n",
       "BSB HOME Premium Cotton Elastic Fitted Bedsheets with 2 King Size Pillow Covers | Double Bed with All Around Elastic 180 T...     9\n",
       "Name: count, dtype: int64"
      ]
     },
     "execution_count": 28,
     "metadata": {},
     "output_type": "execute_result"
    }
   ],
   "source": [
    "products['name'].value_counts().head(20)"
   ]
  },
  {
   "cell_type": "code",
   "execution_count": 29,
   "metadata": {},
   "outputs": [],
   "source": [
    "products = products.drop_duplicates()"
   ]
  },
  {
   "cell_type": "code",
   "execution_count": 30,
   "metadata": {},
   "outputs": [
    {
     "data": {
      "text/html": [
       "<div>\n",
       "<style scoped>\n",
       "    .dataframe tbody tr th:only-of-type {\n",
       "        vertical-align: middle;\n",
       "    }\n",
       "\n",
       "    .dataframe tbody tr th {\n",
       "        vertical-align: top;\n",
       "    }\n",
       "\n",
       "    .dataframe thead th {\n",
       "        text-align: right;\n",
       "    }\n",
       "</style>\n",
       "<table border=\"1\" class=\"dataframe\">\n",
       "  <thead>\n",
       "    <tr style=\"text-align: right;\">\n",
       "      <th></th>\n",
       "      <th>name</th>\n",
       "      <th>main_category</th>\n",
       "      <th>sub_category</th>\n",
       "      <th>ratings</th>\n",
       "      <th>no_of_ratings</th>\n",
       "      <th>discount_price</th>\n",
       "      <th>actual_price</th>\n",
       "    </tr>\n",
       "  </thead>\n",
       "  <tbody>\n",
       "    <tr>\n",
       "      <th>0</th>\n",
       "      <td>GLUN Bolt Electronic Portable Fishing Hook Typ...</td>\n",
       "      <td>accessories</td>\n",
       "      <td>Bags &amp; Luggage</td>\n",
       "      <td>3.9</td>\n",
       "      <td>18662.0</td>\n",
       "      <td>278.0</td>\n",
       "      <td>899.0</td>\n",
       "    </tr>\n",
       "    <tr>\n",
       "      <th>1</th>\n",
       "      <td>Boldfit Shoe Bag for Travel &amp; Storage Travel O...</td>\n",
       "      <td>accessories</td>\n",
       "      <td>Bags &amp; Luggage</td>\n",
       "      <td>4.5</td>\n",
       "      <td>453.0</td>\n",
       "      <td>199.0</td>\n",
       "      <td>599.0</td>\n",
       "    </tr>\n",
       "    <tr>\n",
       "      <th>2</th>\n",
       "      <td>Storite 2 Pack Moisture Proof Nylon Large Size...</td>\n",
       "      <td>accessories</td>\n",
       "      <td>Bags &amp; Luggage</td>\n",
       "      <td>4.3</td>\n",
       "      <td>15905.0</td>\n",
       "      <td>699.0</td>\n",
       "      <td>1999.0</td>\n",
       "    </tr>\n",
       "    <tr>\n",
       "      <th>3</th>\n",
       "      <td>GoTrippin Metal Luggage Weighing Scale Digital...</td>\n",
       "      <td>accessories</td>\n",
       "      <td>Bags &amp; Luggage</td>\n",
       "      <td>4.4</td>\n",
       "      <td>8614.0</td>\n",
       "      <td>699.0</td>\n",
       "      <td>1200.0</td>\n",
       "    </tr>\n",
       "    <tr>\n",
       "      <th>4</th>\n",
       "      <td>Safari Pentagon Trolley Bags for Travel, 55 cm...</td>\n",
       "      <td>accessories</td>\n",
       "      <td>Bags &amp; Luggage</td>\n",
       "      <td>4.1</td>\n",
       "      <td>1522.0</td>\n",
       "      <td>1999.0</td>\n",
       "      <td>7775.0</td>\n",
       "    </tr>\n",
       "    <tr>\n",
       "      <th>...</th>\n",
       "      <td>...</td>\n",
       "      <td>...</td>\n",
       "      <td>...</td>\n",
       "      <td>...</td>\n",
       "      <td>...</td>\n",
       "      <td>...</td>\n",
       "      <td>...</td>\n",
       "    </tr>\n",
       "    <tr>\n",
       "      <th>45231</th>\n",
       "      <td>Metro Women Beaded Sandals (35-3787)</td>\n",
       "      <td>women's shoes</td>\n",
       "      <td>Fashion Sandals</td>\n",
       "      <td>3.2</td>\n",
       "      <td>13.0</td>\n",
       "      <td>1145.0</td>\n",
       "      <td>2290.0</td>\n",
       "    </tr>\n",
       "    <tr>\n",
       "      <th>45232</th>\n",
       "      <td>Sharon by Khadim's Women Grey Heel Sandal</td>\n",
       "      <td>women's shoes</td>\n",
       "      <td>Fashion Sandals</td>\n",
       "      <td>3.1</td>\n",
       "      <td>9.0</td>\n",
       "      <td>853.0</td>\n",
       "      <td>1199.0</td>\n",
       "    </tr>\n",
       "    <tr>\n",
       "      <th>45233</th>\n",
       "      <td>Denill Women And Girls Ankle Strap Fashion San...</td>\n",
       "      <td>women's shoes</td>\n",
       "      <td>Fashion Sandals</td>\n",
       "      <td>3.1</td>\n",
       "      <td>48.0</td>\n",
       "      <td>249.0</td>\n",
       "      <td>1499.0</td>\n",
       "    </tr>\n",
       "    <tr>\n",
       "      <th>45234</th>\n",
       "      <td>RESTAYEL Woman Trending Stylish Fancy and Comf...</td>\n",
       "      <td>women's shoes</td>\n",
       "      <td>Fashion Sandals</td>\n",
       "      <td>3.6</td>\n",
       "      <td>16.0</td>\n",
       "      <td>299.0</td>\n",
       "      <td>999.0</td>\n",
       "    </tr>\n",
       "    <tr>\n",
       "      <th>45235</th>\n",
       "      <td>ASK - JS - LCD &amp; CO - Women Sling Heeled Sanda...</td>\n",
       "      <td>women's shoes</td>\n",
       "      <td>Fashion Sandals</td>\n",
       "      <td>3.9</td>\n",
       "      <td>2519.0</td>\n",
       "      <td>329.0</td>\n",
       "      <td>999.0</td>\n",
       "    </tr>\n",
       "  </tbody>\n",
       "</table>\n",
       "<p>44053 rows × 7 columns</p>\n",
       "</div>"
      ],
      "text/plain": [
       "                                                    name  main_category   \n",
       "0      GLUN Bolt Electronic Portable Fishing Hook Typ...    accessories  \\\n",
       "1      Boldfit Shoe Bag for Travel & Storage Travel O...    accessories   \n",
       "2      Storite 2 Pack Moisture Proof Nylon Large Size...    accessories   \n",
       "3      GoTrippin Metal Luggage Weighing Scale Digital...    accessories   \n",
       "4      Safari Pentagon Trolley Bags for Travel, 55 cm...    accessories   \n",
       "...                                                  ...            ...   \n",
       "45231               Metro Women Beaded Sandals (35-3787)  women's shoes   \n",
       "45232          Sharon by Khadim's Women Grey Heel Sandal  women's shoes   \n",
       "45233  Denill Women And Girls Ankle Strap Fashion San...  women's shoes   \n",
       "45234  RESTAYEL Woman Trending Stylish Fancy and Comf...  women's shoes   \n",
       "45235  ASK - JS - LCD & CO - Women Sling Heeled Sanda...  women's shoes   \n",
       "\n",
       "          sub_category  ratings  no_of_ratings  discount_price  actual_price  \n",
       "0       Bags & Luggage      3.9        18662.0           278.0         899.0  \n",
       "1       Bags & Luggage      4.5          453.0           199.0         599.0  \n",
       "2       Bags & Luggage      4.3        15905.0           699.0        1999.0  \n",
       "3       Bags & Luggage      4.4         8614.0           699.0        1200.0  \n",
       "4       Bags & Luggage      4.1         1522.0          1999.0        7775.0  \n",
       "...                ...      ...            ...             ...           ...  \n",
       "45231  Fashion Sandals      3.2           13.0          1145.0        2290.0  \n",
       "45232  Fashion Sandals      3.1            9.0           853.0        1199.0  \n",
       "45233  Fashion Sandals      3.1           48.0           249.0        1499.0  \n",
       "45234  Fashion Sandals      3.6           16.0           299.0         999.0  \n",
       "45235  Fashion Sandals      3.9         2519.0           329.0         999.0  \n",
       "\n",
       "[44053 rows x 7 columns]"
      ]
     },
     "execution_count": 30,
     "metadata": {},
     "output_type": "execute_result"
    }
   ],
   "source": [
    "products"
   ]
  },
  {
   "cell_type": "code",
   "execution_count": 31,
   "metadata": {},
   "outputs": [],
   "source": [
    "products['productId'] = pd.factorize(products['name'])[0] + 1"
   ]
  },
  {
   "cell_type": "code",
   "execution_count": 32,
   "metadata": {},
   "outputs": [
    {
     "name": "stdout",
     "output_type": "stream",
     "text": [
      "Unique Count of product name: 41200\n",
      "Unique Count of product Id: 41200\n"
     ]
    }
   ],
   "source": [
    "print(f\"Unique Count of product name: {products['name'].nunique()}\")\n",
    "print(f\"Unique Count of product Id: {products['productId'].nunique()}\")"
   ]
  },
  {
   "cell_type": "code",
   "execution_count": 33,
   "metadata": {},
   "outputs": [],
   "source": [
    "# Random generation of number to product userId\n",
    "products['random_number_userId'] = [randint(5,20) for i in products.index]"
   ]
  },
  {
   "cell_type": "code",
   "execution_count": 34,
   "metadata": {},
   "outputs": [],
   "source": [
    "updated_products = products.loc[products.index.repeat(products['random_number_userId'])]\n",
    "updated_products['userId'] = updated_products.groupby(level=0).cumcount()+1"
   ]
  },
  {
   "cell_type": "code",
   "execution_count": 35,
   "metadata": {},
   "outputs": [],
   "source": [
    "updated_products = updated_products.reset_index(drop=True)"
   ]
  },
  {
   "cell_type": "code",
   "execution_count": 36,
   "metadata": {},
   "outputs": [
    {
     "data": {
      "text/plain": [
       "(549237, 10)"
      ]
     },
     "execution_count": 36,
     "metadata": {},
     "output_type": "execute_result"
    }
   ],
   "source": [
    "updated_products.shape"
   ]
  },
  {
   "cell_type": "code",
   "execution_count": 37,
   "metadata": {},
   "outputs": [
    {
     "data": {
      "text/html": [
       "<div>\n",
       "<style scoped>\n",
       "    .dataframe tbody tr th:only-of-type {\n",
       "        vertical-align: middle;\n",
       "    }\n",
       "\n",
       "    .dataframe tbody tr th {\n",
       "        vertical-align: top;\n",
       "    }\n",
       "\n",
       "    .dataframe thead th {\n",
       "        text-align: right;\n",
       "    }\n",
       "</style>\n",
       "<table border=\"1\" class=\"dataframe\">\n",
       "  <thead>\n",
       "    <tr style=\"text-align: right;\">\n",
       "      <th></th>\n",
       "      <th>name</th>\n",
       "      <th>main_category</th>\n",
       "      <th>sub_category</th>\n",
       "      <th>ratings</th>\n",
       "      <th>no_of_ratings</th>\n",
       "      <th>discount_price</th>\n",
       "      <th>actual_price</th>\n",
       "      <th>productId</th>\n",
       "      <th>random_number_userId</th>\n",
       "      <th>userId</th>\n",
       "    </tr>\n",
       "  </thead>\n",
       "  <tbody>\n",
       "    <tr>\n",
       "      <th>0</th>\n",
       "      <td>GLUN Bolt Electronic Portable Fishing Hook Typ...</td>\n",
       "      <td>accessories</td>\n",
       "      <td>Bags &amp; Luggage</td>\n",
       "      <td>3.9</td>\n",
       "      <td>18662.0</td>\n",
       "      <td>278.0</td>\n",
       "      <td>899.0</td>\n",
       "      <td>1</td>\n",
       "      <td>19</td>\n",
       "      <td>1</td>\n",
       "    </tr>\n",
       "    <tr>\n",
       "      <th>1</th>\n",
       "      <td>GLUN Bolt Electronic Portable Fishing Hook Typ...</td>\n",
       "      <td>accessories</td>\n",
       "      <td>Bags &amp; Luggage</td>\n",
       "      <td>3.9</td>\n",
       "      <td>18662.0</td>\n",
       "      <td>278.0</td>\n",
       "      <td>899.0</td>\n",
       "      <td>1</td>\n",
       "      <td>19</td>\n",
       "      <td>2</td>\n",
       "    </tr>\n",
       "    <tr>\n",
       "      <th>2</th>\n",
       "      <td>GLUN Bolt Electronic Portable Fishing Hook Typ...</td>\n",
       "      <td>accessories</td>\n",
       "      <td>Bags &amp; Luggage</td>\n",
       "      <td>3.9</td>\n",
       "      <td>18662.0</td>\n",
       "      <td>278.0</td>\n",
       "      <td>899.0</td>\n",
       "      <td>1</td>\n",
       "      <td>19</td>\n",
       "      <td>3</td>\n",
       "    </tr>\n",
       "    <tr>\n",
       "      <th>3</th>\n",
       "      <td>GLUN Bolt Electronic Portable Fishing Hook Typ...</td>\n",
       "      <td>accessories</td>\n",
       "      <td>Bags &amp; Luggage</td>\n",
       "      <td>3.9</td>\n",
       "      <td>18662.0</td>\n",
       "      <td>278.0</td>\n",
       "      <td>899.0</td>\n",
       "      <td>1</td>\n",
       "      <td>19</td>\n",
       "      <td>4</td>\n",
       "    </tr>\n",
       "    <tr>\n",
       "      <th>4</th>\n",
       "      <td>GLUN Bolt Electronic Portable Fishing Hook Typ...</td>\n",
       "      <td>accessories</td>\n",
       "      <td>Bags &amp; Luggage</td>\n",
       "      <td>3.9</td>\n",
       "      <td>18662.0</td>\n",
       "      <td>278.0</td>\n",
       "      <td>899.0</td>\n",
       "      <td>1</td>\n",
       "      <td>19</td>\n",
       "      <td>5</td>\n",
       "    </tr>\n",
       "  </tbody>\n",
       "</table>\n",
       "</div>"
      ],
      "text/plain": [
       "                                                name main_category   \n",
       "0  GLUN Bolt Electronic Portable Fishing Hook Typ...   accessories  \\\n",
       "1  GLUN Bolt Electronic Portable Fishing Hook Typ...   accessories   \n",
       "2  GLUN Bolt Electronic Portable Fishing Hook Typ...   accessories   \n",
       "3  GLUN Bolt Electronic Portable Fishing Hook Typ...   accessories   \n",
       "4  GLUN Bolt Electronic Portable Fishing Hook Typ...   accessories   \n",
       "\n",
       "     sub_category  ratings  no_of_ratings  discount_price  actual_price   \n",
       "0  Bags & Luggage      3.9        18662.0           278.0         899.0  \\\n",
       "1  Bags & Luggage      3.9        18662.0           278.0         899.0   \n",
       "2  Bags & Luggage      3.9        18662.0           278.0         899.0   \n",
       "3  Bags & Luggage      3.9        18662.0           278.0         899.0   \n",
       "4  Bags & Luggage      3.9        18662.0           278.0         899.0   \n",
       "\n",
       "   productId  random_number_userId  userId  \n",
       "0          1                    19       1  \n",
       "1          1                    19       2  \n",
       "2          1                    19       3  \n",
       "3          1                    19       4  \n",
       "4          1                    19       5  "
      ]
     },
     "execution_count": 37,
     "metadata": {},
     "output_type": "execute_result"
    }
   ],
   "source": [
    "updated_products.head(5)"
   ]
  },
  {
   "cell_type": "code",
   "execution_count": 38,
   "metadata": {},
   "outputs": [],
   "source": [
    "## Updaing user ratings (randomly between 1.0 - 5.0)\n",
    "updated_products['ratings'] = [round(uniform(1,5),1) for i in updated_products.index]"
   ]
  },
  {
   "cell_type": "markdown",
   "metadata": {},
   "source": [
    "#### Bayesian Average"
   ]
  },
  {
   "cell_type": "code",
   "execution_count": 39,
   "metadata": {},
   "outputs": [
    {
     "data": {
      "text/html": [
       "<div>\n",
       "<style scoped>\n",
       "    .dataframe tbody tr th:only-of-type {\n",
       "        vertical-align: middle;\n",
       "    }\n",
       "\n",
       "    .dataframe tbody tr th {\n",
       "        vertical-align: top;\n",
       "    }\n",
       "\n",
       "    .dataframe thead th {\n",
       "        text-align: right;\n",
       "    }\n",
       "</style>\n",
       "<table border=\"1\" class=\"dataframe\">\n",
       "  <thead>\n",
       "    <tr style=\"text-align: right;\">\n",
       "      <th></th>\n",
       "      <th>count</th>\n",
       "      <th>mean</th>\n",
       "    </tr>\n",
       "    <tr>\n",
       "      <th>productId</th>\n",
       "      <th></th>\n",
       "      <th></th>\n",
       "    </tr>\n",
       "  </thead>\n",
       "  <tbody>\n",
       "    <tr>\n",
       "      <th>1</th>\n",
       "      <td>36</td>\n",
       "      <td>2.875000</td>\n",
       "    </tr>\n",
       "    <tr>\n",
       "      <th>2</th>\n",
       "      <td>22</td>\n",
       "      <td>3.427273</td>\n",
       "    </tr>\n",
       "    <tr>\n",
       "      <th>3</th>\n",
       "      <td>10</td>\n",
       "      <td>2.960000</td>\n",
       "    </tr>\n",
       "    <tr>\n",
       "      <th>4</th>\n",
       "      <td>10</td>\n",
       "      <td>3.270000</td>\n",
       "    </tr>\n",
       "    <tr>\n",
       "      <th>5</th>\n",
       "      <td>15</td>\n",
       "      <td>3.033333</td>\n",
       "    </tr>\n",
       "    <tr>\n",
       "      <th>...</th>\n",
       "      <td>...</td>\n",
       "      <td>...</td>\n",
       "    </tr>\n",
       "    <tr>\n",
       "      <th>41196</th>\n",
       "      <td>13</td>\n",
       "      <td>3.823077</td>\n",
       "    </tr>\n",
       "    <tr>\n",
       "      <th>41197</th>\n",
       "      <td>11</td>\n",
       "      <td>3.627273</td>\n",
       "    </tr>\n",
       "    <tr>\n",
       "      <th>41198</th>\n",
       "      <td>5</td>\n",
       "      <td>3.820000</td>\n",
       "    </tr>\n",
       "    <tr>\n",
       "      <th>41199</th>\n",
       "      <td>5</td>\n",
       "      <td>3.380000</td>\n",
       "    </tr>\n",
       "    <tr>\n",
       "      <th>41200</th>\n",
       "      <td>19</td>\n",
       "      <td>3.300000</td>\n",
       "    </tr>\n",
       "  </tbody>\n",
       "</table>\n",
       "<p>41200 rows × 2 columns</p>\n",
       "</div>"
      ],
      "text/plain": [
       "           count      mean\n",
       "productId                 \n",
       "1             36  2.875000\n",
       "2             22  3.427273\n",
       "3             10  2.960000\n",
       "4             10  3.270000\n",
       "5             15  3.033333\n",
       "...          ...       ...\n",
       "41196         13  3.823077\n",
       "41197         11  3.627273\n",
       "41198          5  3.820000\n",
       "41199          5  3.380000\n",
       "41200         19  3.300000\n",
       "\n",
       "[41200 rows x 2 columns]"
      ]
     },
     "execution_count": 39,
     "metadata": {},
     "output_type": "execute_result"
    }
   ],
   "source": [
    "products_stats = updated_products.groupby('productId')['ratings'].agg(['count','mean'])\n",
    "products_stats"
   ]
  },
  {
   "cell_type": "code",
   "execution_count": 40,
   "metadata": {},
   "outputs": [],
   "source": [
    "c = products_stats['count'].mean()\n",
    "m = products_stats['mean'].mean()"
   ]
  },
  {
   "cell_type": "code",
   "execution_count": 41,
   "metadata": {},
   "outputs": [],
   "source": [
    "def bayesain_average(ratings):\n",
    "    bayesain_avg = (c*m+ratings.sum())/(c+ratings.count())\n",
    "    return round(bayesain_avg, 3)"
   ]
  },
  {
   "cell_type": "code",
   "execution_count": 42,
   "metadata": {},
   "outputs": [
    {
     "data": {
      "text/plain": [
       "3.134"
      ]
     },
     "execution_count": 42,
     "metadata": {},
     "output_type": "execute_result"
    }
   ],
   "source": [
    "test = pd.Series([4.9])\n",
    "bayesain_average(test)"
   ]
  },
  {
   "cell_type": "markdown",
   "metadata": {},
   "source": [
    "#### Applying bayesain average on dataset"
   ]
  },
  {
   "cell_type": "code",
   "execution_count": 43,
   "metadata": {},
   "outputs": [
    {
     "data": {
      "text/html": [
       "<div>\n",
       "<style scoped>\n",
       "    .dataframe tbody tr th:only-of-type {\n",
       "        vertical-align: middle;\n",
       "    }\n",
       "\n",
       "    .dataframe tbody tr th {\n",
       "        vertical-align: top;\n",
       "    }\n",
       "\n",
       "    .dataframe thead th {\n",
       "        text-align: right;\n",
       "    }\n",
       "</style>\n",
       "<table border=\"1\" class=\"dataframe\">\n",
       "  <thead>\n",
       "    <tr style=\"text-align: right;\">\n",
       "      <th></th>\n",
       "      <th>name</th>\n",
       "      <th>main_category</th>\n",
       "      <th>sub_category</th>\n",
       "      <th>ratings</th>\n",
       "      <th>no_of_ratings</th>\n",
       "      <th>discount_price</th>\n",
       "      <th>actual_price</th>\n",
       "      <th>productId</th>\n",
       "      <th>random_number_userId</th>\n",
       "      <th>userId</th>\n",
       "    </tr>\n",
       "  </thead>\n",
       "  <tbody>\n",
       "    <tr>\n",
       "      <th>0</th>\n",
       "      <td>GLUN Bolt Electronic Portable Fishing Hook Typ...</td>\n",
       "      <td>accessories</td>\n",
       "      <td>Bags &amp; Luggage</td>\n",
       "      <td>4.9</td>\n",
       "      <td>18662.0</td>\n",
       "      <td>278.0</td>\n",
       "      <td>899.0</td>\n",
       "      <td>1</td>\n",
       "      <td>19</td>\n",
       "      <td>1</td>\n",
       "    </tr>\n",
       "    <tr>\n",
       "      <th>1</th>\n",
       "      <td>GLUN Bolt Electronic Portable Fishing Hook Typ...</td>\n",
       "      <td>accessories</td>\n",
       "      <td>Bags &amp; Luggage</td>\n",
       "      <td>5.0</td>\n",
       "      <td>18662.0</td>\n",
       "      <td>278.0</td>\n",
       "      <td>899.0</td>\n",
       "      <td>1</td>\n",
       "      <td>19</td>\n",
       "      <td>2</td>\n",
       "    </tr>\n",
       "    <tr>\n",
       "      <th>2</th>\n",
       "      <td>GLUN Bolt Electronic Portable Fishing Hook Typ...</td>\n",
       "      <td>accessories</td>\n",
       "      <td>Bags &amp; Luggage</td>\n",
       "      <td>1.5</td>\n",
       "      <td>18662.0</td>\n",
       "      <td>278.0</td>\n",
       "      <td>899.0</td>\n",
       "      <td>1</td>\n",
       "      <td>19</td>\n",
       "      <td>3</td>\n",
       "    </tr>\n",
       "    <tr>\n",
       "      <th>3</th>\n",
       "      <td>GLUN Bolt Electronic Portable Fishing Hook Typ...</td>\n",
       "      <td>accessories</td>\n",
       "      <td>Bags &amp; Luggage</td>\n",
       "      <td>1.8</td>\n",
       "      <td>18662.0</td>\n",
       "      <td>278.0</td>\n",
       "      <td>899.0</td>\n",
       "      <td>1</td>\n",
       "      <td>19</td>\n",
       "      <td>4</td>\n",
       "    </tr>\n",
       "    <tr>\n",
       "      <th>4</th>\n",
       "      <td>GLUN Bolt Electronic Portable Fishing Hook Typ...</td>\n",
       "      <td>accessories</td>\n",
       "      <td>Bags &amp; Luggage</td>\n",
       "      <td>1.8</td>\n",
       "      <td>18662.0</td>\n",
       "      <td>278.0</td>\n",
       "      <td>899.0</td>\n",
       "      <td>1</td>\n",
       "      <td>19</td>\n",
       "      <td>5</td>\n",
       "    </tr>\n",
       "  </tbody>\n",
       "</table>\n",
       "</div>"
      ],
      "text/plain": [
       "                                                name main_category   \n",
       "0  GLUN Bolt Electronic Portable Fishing Hook Typ...   accessories  \\\n",
       "1  GLUN Bolt Electronic Portable Fishing Hook Typ...   accessories   \n",
       "2  GLUN Bolt Electronic Portable Fishing Hook Typ...   accessories   \n",
       "3  GLUN Bolt Electronic Portable Fishing Hook Typ...   accessories   \n",
       "4  GLUN Bolt Electronic Portable Fishing Hook Typ...   accessories   \n",
       "\n",
       "     sub_category  ratings  no_of_ratings  discount_price  actual_price   \n",
       "0  Bags & Luggage      4.9        18662.0           278.0         899.0  \\\n",
       "1  Bags & Luggage      5.0        18662.0           278.0         899.0   \n",
       "2  Bags & Luggage      1.5        18662.0           278.0         899.0   \n",
       "3  Bags & Luggage      1.8        18662.0           278.0         899.0   \n",
       "4  Bags & Luggage      1.8        18662.0           278.0         899.0   \n",
       "\n",
       "   productId  random_number_userId  userId  \n",
       "0          1                    19       1  \n",
       "1          1                    19       2  \n",
       "2          1                    19       3  \n",
       "3          1                    19       4  \n",
       "4          1                    19       5  "
      ]
     },
     "execution_count": 43,
     "metadata": {},
     "output_type": "execute_result"
    }
   ],
   "source": [
    "updated_products.head(5)"
   ]
  },
  {
   "cell_type": "code",
   "execution_count": 44,
   "metadata": {},
   "outputs": [
    {
     "data": {
      "text/html": [
       "<div>\n",
       "<style scoped>\n",
       "    .dataframe tbody tr th:only-of-type {\n",
       "        vertical-align: middle;\n",
       "    }\n",
       "\n",
       "    .dataframe tbody tr th {\n",
       "        vertical-align: top;\n",
       "    }\n",
       "\n",
       "    .dataframe thead th {\n",
       "        text-align: right;\n",
       "    }\n",
       "</style>\n",
       "<table border=\"1\" class=\"dataframe\">\n",
       "  <thead>\n",
       "    <tr style=\"text-align: right;\">\n",
       "      <th></th>\n",
       "      <th>productId</th>\n",
       "      <th>bayesain_avg_ratings</th>\n",
       "    </tr>\n",
       "  </thead>\n",
       "  <tbody>\n",
       "    <tr>\n",
       "      <th>0</th>\n",
       "      <td>1</td>\n",
       "      <td>2.909</td>\n",
       "    </tr>\n",
       "    <tr>\n",
       "      <th>1</th>\n",
       "      <td>2</td>\n",
       "      <td>3.267</td>\n",
       "    </tr>\n",
       "    <tr>\n",
       "      <th>2</th>\n",
       "      <td>3</td>\n",
       "      <td>2.984</td>\n",
       "    </tr>\n",
       "    <tr>\n",
       "      <th>3</th>\n",
       "      <td>4</td>\n",
       "      <td>3.117</td>\n",
       "    </tr>\n",
       "    <tr>\n",
       "      <th>4</th>\n",
       "      <td>5</td>\n",
       "      <td>3.018</td>\n",
       "    </tr>\n",
       "  </tbody>\n",
       "</table>\n",
       "</div>"
      ],
      "text/plain": [
       "   productId  bayesain_avg_ratings\n",
       "0          1                 2.909\n",
       "1          2                 3.267\n",
       "2          3                 2.984\n",
       "3          4                 3.117\n",
       "4          5                 3.018"
      ]
     },
     "execution_count": 44,
     "metadata": {},
     "output_type": "execute_result"
    }
   ],
   "source": [
    "bayesain_avg_ratings = updated_products.groupby('productId')['ratings'].agg(bayesain_average).reset_index()\n",
    "bayesain_avg_ratings.columns = [\"productId\",\"bayesain_avg_ratings\"]\n",
    "bayesain_avg_ratings.head(5)"
   ]
  },
  {
   "cell_type": "code",
   "execution_count": 45,
   "metadata": {},
   "outputs": [
    {
     "data": {
      "text/html": [
       "<div>\n",
       "<style scoped>\n",
       "    .dataframe tbody tr th:only-of-type {\n",
       "        vertical-align: middle;\n",
       "    }\n",
       "\n",
       "    .dataframe tbody tr th {\n",
       "        vertical-align: top;\n",
       "    }\n",
       "\n",
       "    .dataframe thead th {\n",
       "        text-align: right;\n",
       "    }\n",
       "</style>\n",
       "<table border=\"1\" class=\"dataframe\">\n",
       "  <thead>\n",
       "    <tr style=\"text-align: right;\">\n",
       "      <th></th>\n",
       "      <th>productId</th>\n",
       "      <th>count</th>\n",
       "      <th>mean</th>\n",
       "      <th>bayesain_avg_ratings</th>\n",
       "    </tr>\n",
       "  </thead>\n",
       "  <tbody>\n",
       "    <tr>\n",
       "      <th>0</th>\n",
       "      <td>1</td>\n",
       "      <td>36</td>\n",
       "      <td>2.875000</td>\n",
       "      <td>2.909</td>\n",
       "    </tr>\n",
       "    <tr>\n",
       "      <th>1</th>\n",
       "      <td>2</td>\n",
       "      <td>22</td>\n",
       "      <td>3.427273</td>\n",
       "      <td>3.267</td>\n",
       "    </tr>\n",
       "    <tr>\n",
       "      <th>2</th>\n",
       "      <td>3</td>\n",
       "      <td>10</td>\n",
       "      <td>2.960000</td>\n",
       "      <td>2.984</td>\n",
       "    </tr>\n",
       "    <tr>\n",
       "      <th>3</th>\n",
       "      <td>4</td>\n",
       "      <td>10</td>\n",
       "      <td>3.270000</td>\n",
       "      <td>3.117</td>\n",
       "    </tr>\n",
       "    <tr>\n",
       "      <th>4</th>\n",
       "      <td>5</td>\n",
       "      <td>15</td>\n",
       "      <td>3.033333</td>\n",
       "      <td>3.018</td>\n",
       "    </tr>\n",
       "  </tbody>\n",
       "</table>\n",
       "</div>"
      ],
      "text/plain": [
       "   productId  count      mean  bayesain_avg_ratings\n",
       "0          1     36  2.875000                 2.909\n",
       "1          2     22  3.427273                 3.267\n",
       "2          3     10  2.960000                 2.984\n",
       "3          4     10  3.270000                 3.117\n",
       "4          5     15  3.033333                 3.018"
      ]
     },
     "execution_count": 45,
     "metadata": {},
     "output_type": "execute_result"
    }
   ],
   "source": [
    "products_stats = products_stats.merge(bayesain_avg_ratings, on='productId')\n",
    "products_stats.head()"
   ]
  },
  {
   "cell_type": "code",
   "execution_count": 46,
   "metadata": {},
   "outputs": [
    {
     "data": {
      "text/html": [
       "<div>\n",
       "<style scoped>\n",
       "    .dataframe tbody tr th:only-of-type {\n",
       "        vertical-align: middle;\n",
       "    }\n",
       "\n",
       "    .dataframe tbody tr th {\n",
       "        vertical-align: top;\n",
       "    }\n",
       "\n",
       "    .dataframe thead th {\n",
       "        text-align: right;\n",
       "    }\n",
       "</style>\n",
       "<table border=\"1\" class=\"dataframe\">\n",
       "  <thead>\n",
       "    <tr style=\"text-align: right;\">\n",
       "      <th></th>\n",
       "      <th>productId</th>\n",
       "      <th>count</th>\n",
       "      <th>mean</th>\n",
       "      <th>bayesain_avg_ratings</th>\n",
       "      <th>name</th>\n",
       "    </tr>\n",
       "  </thead>\n",
       "  <tbody>\n",
       "    <tr>\n",
       "      <th>344139</th>\n",
       "      <td>25445</td>\n",
       "      <td>9</td>\n",
       "      <td>4.477778</td>\n",
       "      <td>3.596</td>\n",
       "      <td>Duke Men Loafers</td>\n",
       "    </tr>\n",
       "    <tr>\n",
       "      <th>344138</th>\n",
       "      <td>25445</td>\n",
       "      <td>9</td>\n",
       "      <td>4.477778</td>\n",
       "      <td>3.596</td>\n",
       "      <td>Duke Men Loafers</td>\n",
       "    </tr>\n",
       "    <tr>\n",
       "      <th>344137</th>\n",
       "      <td>25445</td>\n",
       "      <td>9</td>\n",
       "      <td>4.477778</td>\n",
       "      <td>3.596</td>\n",
       "      <td>Duke Men Loafers</td>\n",
       "    </tr>\n",
       "    <tr>\n",
       "      <th>344136</th>\n",
       "      <td>25445</td>\n",
       "      <td>9</td>\n",
       "      <td>4.477778</td>\n",
       "      <td>3.596</td>\n",
       "      <td>Duke Men Loafers</td>\n",
       "    </tr>\n",
       "    <tr>\n",
       "      <th>344135</th>\n",
       "      <td>25445</td>\n",
       "      <td>9</td>\n",
       "      <td>4.477778</td>\n",
       "      <td>3.596</td>\n",
       "      <td>Duke Men Loafers</td>\n",
       "    </tr>\n",
       "  </tbody>\n",
       "</table>\n",
       "</div>"
      ],
      "text/plain": [
       "        productId  count      mean  bayesain_avg_ratings              name\n",
       "344139      25445      9  4.477778                 3.596  Duke Men Loafers\n",
       "344138      25445      9  4.477778                 3.596  Duke Men Loafers\n",
       "344137      25445      9  4.477778                 3.596  Duke Men Loafers\n",
       "344136      25445      9  4.477778                 3.596  Duke Men Loafers\n",
       "344135      25445      9  4.477778                 3.596  Duke Men Loafers"
      ]
     },
     "execution_count": 46,
     "metadata": {},
     "output_type": "execute_result"
    }
   ],
   "source": [
    "products_stats = products_stats.merge(updated_products[['productId','name']])\n",
    "products_stats.sort_values('bayesain_avg_ratings', ascending=False).head()"
   ]
  },
  {
   "cell_type": "code",
   "execution_count": 47,
   "metadata": {},
   "outputs": [
    {
     "data": {
      "text/html": [
       "<div>\n",
       "<style scoped>\n",
       "    .dataframe tbody tr th:only-of-type {\n",
       "        vertical-align: middle;\n",
       "    }\n",
       "\n",
       "    .dataframe tbody tr th {\n",
       "        vertical-align: top;\n",
       "    }\n",
       "\n",
       "    .dataframe thead th {\n",
       "        text-align: right;\n",
       "    }\n",
       "</style>\n",
       "<table border=\"1\" class=\"dataframe\">\n",
       "  <thead>\n",
       "    <tr style=\"text-align: right;\">\n",
       "      <th></th>\n",
       "      <th>productId</th>\n",
       "      <th>count</th>\n",
       "      <th>mean</th>\n",
       "      <th>bayesain_avg_ratings</th>\n",
       "      <th>name</th>\n",
       "    </tr>\n",
       "  </thead>\n",
       "  <tbody>\n",
       "    <tr>\n",
       "      <th>204481</th>\n",
       "      <td>15096</td>\n",
       "      <td>20</td>\n",
       "      <td>2.06</td>\n",
       "      <td>2.437</td>\n",
       "      <td>AGARO Borosilicate Glass Containers with Lids,...</td>\n",
       "    </tr>\n",
       "    <tr>\n",
       "      <th>204482</th>\n",
       "      <td>15096</td>\n",
       "      <td>20</td>\n",
       "      <td>2.06</td>\n",
       "      <td>2.437</td>\n",
       "      <td>AGARO Borosilicate Glass Containers with Lids,...</td>\n",
       "    </tr>\n",
       "    <tr>\n",
       "      <th>204483</th>\n",
       "      <td>15096</td>\n",
       "      <td>20</td>\n",
       "      <td>2.06</td>\n",
       "      <td>2.437</td>\n",
       "      <td>AGARO Borosilicate Glass Containers with Lids,...</td>\n",
       "    </tr>\n",
       "    <tr>\n",
       "      <th>204484</th>\n",
       "      <td>15096</td>\n",
       "      <td>20</td>\n",
       "      <td>2.06</td>\n",
       "      <td>2.437</td>\n",
       "      <td>AGARO Borosilicate Glass Containers with Lids,...</td>\n",
       "    </tr>\n",
       "    <tr>\n",
       "      <th>204485</th>\n",
       "      <td>15096</td>\n",
       "      <td>20</td>\n",
       "      <td>2.06</td>\n",
       "      <td>2.437</td>\n",
       "      <td>AGARO Borosilicate Glass Containers with Lids,...</td>\n",
       "    </tr>\n",
       "  </tbody>\n",
       "</table>\n",
       "</div>"
      ],
      "text/plain": [
       "        productId  count  mean  bayesain_avg_ratings   \n",
       "204481      15096     20  2.06                 2.437  \\\n",
       "204482      15096     20  2.06                 2.437   \n",
       "204483      15096     20  2.06                 2.437   \n",
       "204484      15096     20  2.06                 2.437   \n",
       "204485      15096     20  2.06                 2.437   \n",
       "\n",
       "                                                     name  \n",
       "204481  AGARO Borosilicate Glass Containers with Lids,...  \n",
       "204482  AGARO Borosilicate Glass Containers with Lids,...  \n",
       "204483  AGARO Borosilicate Glass Containers with Lids,...  \n",
       "204484  AGARO Borosilicate Glass Containers with Lids,...  \n",
       "204485  AGARO Borosilicate Glass Containers with Lids,...  "
      ]
     },
     "execution_count": 47,
     "metadata": {},
     "output_type": "execute_result"
    }
   ],
   "source": [
    "products_stats.sort_values('bayesain_avg_ratings', ascending=True).head()"
   ]
  },
  {
   "cell_type": "markdown",
   "metadata": {},
   "source": [
    "#### Utility Matrix"
   ]
  },
  {
   "cell_type": "code",
   "execution_count": 48,
   "metadata": {},
   "outputs": [],
   "source": [
    "def utility_matrix(df):\n",
    "    \n",
    "    \"\"\"\n",
    "        user_mapper: maps user id to user index\n",
    "        product_mapper: maps product id to product index\n",
    "        user_inv_mapper: maps user index to user id\n",
    "        product_inv_mapper: maps product index to product id\n",
    "    \n",
    "     \"\"\"\n",
    "\n",
    "    M = df['userId'].nunique()\n",
    "    N = df['productId'].nunique()\n",
    "\n",
    "    user_mapper = dict(zip(np.unique(df['userId']), list(range(M))))\n",
    "    product_mapper = dict(zip(np.unique(df['productId']), list(range(N))))\n",
    "\n",
    "    user_mapper_inv = dict(zip(list(range(M)), np.unique(df['userId'])))\n",
    "    product_mapper_inv = dict(zip(list(range(N)), np.unique(df['productId'])))\n",
    "\n",
    "    user_index = [user_mapper[i] for i in df['userId']] \n",
    "    item_index = [product_mapper[i] for i in df['productId']]\n",
    "\n",
    "    X = csr_matrix((df['ratings'], (user_index, item_index)), shape=(M,N))\n",
    "\n",
    "    return X, user_mapper, user_mapper_inv, product_mapper, product_mapper_inv\n"
   ]
  },
  {
   "cell_type": "code",
   "execution_count": 49,
   "metadata": {},
   "outputs": [],
   "source": [
    "X, user_mapper, user_mapper_inv, product_mapper, product_mapper_inv = utility_matrix(updated_products)"
   ]
  },
  {
   "cell_type": "code",
   "execution_count": 50,
   "metadata": {},
   "outputs": [
    {
     "data": {
      "text/plain": [
       "(20, 41200)"
      ]
     },
     "execution_count": 50,
     "metadata": {},
     "output_type": "execute_result"
    }
   ],
   "source": [
    "X.shape"
   ]
  },
  {
   "cell_type": "code",
   "execution_count": 51,
   "metadata": {},
   "outputs": [
    {
     "name": "stdout",
     "output_type": "stream",
     "text": [
      "Total: 824000\n",
      "Ratings: 519949\n",
      "Matrix sparsity: 63.1%\n"
     ]
    }
   ],
   "source": [
    "## Evaluating Sparsity\n",
    "\n",
    "n_total = X.shape[0]*X.shape[1]\n",
    "print(f\"Total: {n_total}\")\n",
    "\n",
    "n_ratings = X.nnz\n",
    "print(f\"Ratings: {n_ratings}\")\n",
    "\n",
    "sparsity = n_ratings / n_total\n",
    "print(f\"Matrix sparsity: {round(sparsity*100,2)}%\")"
   ]
  },
  {
   "cell_type": "code",
   "execution_count": 52,
   "metadata": {},
   "outputs": [
    {
     "data": {
      "text/plain": [
       "20"
      ]
     },
     "execution_count": 52,
     "metadata": {},
     "output_type": "execute_result"
    }
   ],
   "source": [
    "# ratings per user\n",
    "n_ratings_per_user = X.getnnz(axis=1)\n",
    "len(n_ratings_per_user)"
   ]
  },
  {
   "cell_type": "code",
   "execution_count": 53,
   "metadata": {},
   "outputs": [
    {
     "data": {
      "text/plain": [
       "41200"
      ]
     },
     "execution_count": 53,
     "metadata": {},
     "output_type": "execute_result"
    }
   ],
   "source": [
    "# ratings per products\n",
    "n_ratings_per_products = X.getnnz(axis=0)\n",
    "len(n_ratings_per_products)"
   ]
  },
  {
   "cell_type": "code",
   "execution_count": 54,
   "metadata": {},
   "outputs": [
    {
     "data": {
      "image/png": "[encoded data removed]",
      "text/plain": [
       "<Figure size 1600x400 with 2 Axes>"
      ]
     },
     "metadata": {},
     "output_type": "display_data"
    }
   ],
   "source": [
    "plt.figure(figsize=(16,4))\n",
    "plt.subplot(1,2,1)\n",
    "sns.kdeplot(n_ratings_per_user, fill=True)\n",
    "plt.xlim(0)\n",
    "plt.title(\"Number of ratings per user\", fontsize=15)\n",
    "plt.xlabel(\"number of rating per user\")\n",
    "plt.ylabel(\"density\")\n",
    "plt.subplot(1,2,2)\n",
    "sns.kdeplot(n_ratings_per_products, fill=True)\n",
    "plt.xlim(0)\n",
    "plt.title(\"Number of ratings per products\", fontsize=15)\n",
    "plt.xlabel(\"number of rating per products\")\n",
    "plt.ylabel(\"density\")\n",
    "plt.show()\n"
   ]
  },
  {
   "cell_type": "markdown",
   "metadata": {},
   "source": [
    "### Item-Item Recommendation System"
   ]
  },
  {
   "cell_type": "code",
   "execution_count": 55,
   "metadata": {},
   "outputs": [],
   "source": [
    "def get_similar_product(product_id, X, product_mapper, product_mapper_inv, k, metric=\"cosine\"):\n",
    "\n",
    "    \"\"\"\n",
    "    Finds k-nearest neighbours for a given product id.\n",
    "\n",
    "    Args:\n",
    "        product_id: id of the product of interest\n",
    "        X: user-item utility matrix\n",
    "        k: number of similar product to retrieve\n",
    "        metric: distance metric for kNN calculations\n",
    "\n",
    "    Output: returns list of k similar product ID's\n",
    "    \"\"\"\n",
    "\n",
    "    X = X.T\n",
    "    neighbours_id = []\n",
    "\n",
    "    product_ind = product_mapper[product_id]\n",
    "    product_vec = X[product_ind]\n",
    "\n",
    "    if isinstance(product_vec, (np.ndarray)):\n",
    "        product_vec = product_vec.reshape(1,-1)\n",
    "\n",
    "    kNN = NearestNeighbors(n_neighbors=k+1, algorithm=\"brute\", metric=metric)\n",
    "    kNN.fit(X)\n",
    "    neighbour = kNN.kneighbors(product_vec, return_distance=False)\n",
    "    for i in range(0, k):\n",
    "        n = neighbour.item(i)\n",
    "        neighbours_id.append(product_mapper_inv[n])\n",
    "    neighbours_id.pop(0)\n",
    "    return neighbours_id"
   ]
  },
  {
   "cell_type": "code",
   "execution_count": 56,
   "metadata": {},
   "outputs": [],
   "source": [
    "similar_product = get_similar_product(1, X, product_mapper=product_mapper, product_mapper_inv=product_mapper_inv, k=5)"
   ]
  },
  {
   "cell_type": "code",
   "execution_count": 57,
   "metadata": {},
   "outputs": [
    {
     "data": {
      "text/plain": [
       "[9233, 30648, 13915, 28404]"
      ]
     },
     "execution_count": 57,
     "metadata": {},
     "output_type": "execute_result"
    }
   ],
   "source": [
    "similar_product"
   ]
  },
  {
   "cell_type": "code",
   "execution_count": 58,
   "metadata": {},
   "outputs": [
    {
     "name": "stdout",
     "output_type": "stream",
     "text": [
      "Because you like SAFARI 15 Ltrs Sea Blue Casual/School/College Backpack (DAYPACKNEO15CBSEB):\n",
      " \n",
      "FORSSIL Present Present Buckled Velvet Formal Casual Slip-on Loafers Shoes for Men and Boys (FSL-0521)\n",
      "Tygot 10 Inches Big LED Ring Light for Camera, Phone tiktok YouTube Video Shooting and Makeup, 10\" inch Ring Light with 7 ...\n",
      "SG Musical Best QualityMart Bamboo Flute G Scale\n",
      "Jockey Men's Cotton Undershirt (Pack of 3) White\n"
     ]
    }
   ],
   "source": [
    "products_name = dict(zip(updated_products['productId'], updated_products['name']))\n",
    "product_id = 10\n",
    "\n",
    "similar_product = get_similar_product(product_id=product_id, X=X, product_mapper=product_mapper, product_mapper_inv=product_mapper_inv, k=5)\n",
    "product_name = products_name[product_id]\n",
    "\n",
    "print(f\"Because you like {product_name}:\\n \")\n",
    "for i in similar_product:\n",
    "    print(products_name[i])\n"
   ]
  },
  {
   "cell_type": "markdown",
   "metadata": {},
   "source": [
    "#### Content-Based Filtering\n",
    "- based on ```main_category``` column"
   ]
  },
  {
   "cell_type": "code",
   "execution_count": 59,
   "metadata": {},
   "outputs": [],
   "source": [
    "main_categories = set(s for s in updated_products['main_category'])"
   ]
  },
  {
   "cell_type": "code",
   "execution_count": 60,
   "metadata": {},
   "outputs": [],
   "source": [
    "# Create dataframe for products name and id\n",
    "product_name_df = pd.DataFrame(updated_products['name'].unique(), columns=['name'])\n",
    "product_id_df = pd.DataFrame(updated_products['productId'].unique(), columns=['productId'])"
   ]
  },
  {
   "cell_type": "code",
   "execution_count": 61,
   "metadata": {},
   "outputs": [
    {
     "data": {
      "text/plain": [
       "((41200, 1), (41200, 1))"
      ]
     },
     "execution_count": 61,
     "metadata": {},
     "output_type": "execute_result"
    }
   ],
   "source": [
    "product_id_df.shape, product_name_df.shape"
   ]
  },
  {
   "cell_type": "code",
   "execution_count": 62,
   "metadata": {},
   "outputs": [
    {
     "data": {
      "text/html": [
       "<div>\n",
       "<style scoped>\n",
       "    .dataframe tbody tr th:only-of-type {\n",
       "        vertical-align: middle;\n",
       "    }\n",
       "\n",
       "    .dataframe tbody tr th {\n",
       "        vertical-align: top;\n",
       "    }\n",
       "\n",
       "    .dataframe thead th {\n",
       "        text-align: right;\n",
       "    }\n",
       "</style>\n",
       "<table border=\"1\" class=\"dataframe\">\n",
       "  <thead>\n",
       "    <tr style=\"text-align: right;\">\n",
       "      <th></th>\n",
       "      <th>productId</th>\n",
       "      <th>name</th>\n",
       "    </tr>\n",
       "  </thead>\n",
       "  <tbody>\n",
       "    <tr>\n",
       "      <th>0</th>\n",
       "      <td>1</td>\n",
       "      <td>GLUN Bolt Electronic Portable Fishing Hook Typ...</td>\n",
       "    </tr>\n",
       "    <tr>\n",
       "      <th>1</th>\n",
       "      <td>2</td>\n",
       "      <td>Boldfit Shoe Bag for Travel &amp; Storage Travel O...</td>\n",
       "    </tr>\n",
       "    <tr>\n",
       "      <th>2</th>\n",
       "      <td>3</td>\n",
       "      <td>Storite 2 Pack Moisture Proof Nylon Large Size...</td>\n",
       "    </tr>\n",
       "    <tr>\n",
       "      <th>3</th>\n",
       "      <td>4</td>\n",
       "      <td>GoTrippin Metal Luggage Weighing Scale Digital...</td>\n",
       "    </tr>\n",
       "    <tr>\n",
       "      <th>4</th>\n",
       "      <td>5</td>\n",
       "      <td>Safari Pentagon Trolley Bags for Travel, 55 cm...</td>\n",
       "    </tr>\n",
       "  </tbody>\n",
       "</table>\n",
       "</div>"
      ],
      "text/plain": [
       "   productId                                               name\n",
       "0          1  GLUN Bolt Electronic Portable Fishing Hook Typ...\n",
       "1          2  Boldfit Shoe Bag for Travel & Storage Travel O...\n",
       "2          3  Storite 2 Pack Moisture Proof Nylon Large Size...\n",
       "3          4  GoTrippin Metal Luggage Weighing Scale Digital...\n",
       "4          5  Safari Pentagon Trolley Bags for Travel, 55 cm..."
      ]
     },
     "execution_count": 62,
     "metadata": {},
     "output_type": "execute_result"
    }
   ],
   "source": [
    "# Join product_id and product_name to create new dataframe product_df\n",
    "products_df = pd.concat([product_id_df['productId'], product_name_df['name']], axis=1, keys=['productId', 'name'])\n",
    "products_df.head()"
   ]
  },
  {
   "cell_type": "code",
   "execution_count": 63,
   "metadata": {},
   "outputs": [
    {
     "data": {
      "text/html": [
       "<div>\n",
       "<style scoped>\n",
       "    .dataframe tbody tr th:only-of-type {\n",
       "        vertical-align: middle;\n",
       "    }\n",
       "\n",
       "    .dataframe tbody tr th {\n",
       "        vertical-align: top;\n",
       "    }\n",
       "\n",
       "    .dataframe thead th {\n",
       "        text-align: right;\n",
       "    }\n",
       "</style>\n",
       "<table border=\"1\" class=\"dataframe\">\n",
       "  <thead>\n",
       "    <tr style=\"text-align: right;\">\n",
       "      <th></th>\n",
       "      <th>productId</th>\n",
       "      <th>name</th>\n",
       "      <th>main_category</th>\n",
       "    </tr>\n",
       "  </thead>\n",
       "  <tbody>\n",
       "    <tr>\n",
       "      <th>0</th>\n",
       "      <td>1</td>\n",
       "      <td>GLUN Bolt Electronic Portable Fishing Hook Typ...</td>\n",
       "      <td>accessories</td>\n",
       "    </tr>\n",
       "    <tr>\n",
       "      <th>1</th>\n",
       "      <td>2</td>\n",
       "      <td>Boldfit Shoe Bag for Travel &amp; Storage Travel O...</td>\n",
       "      <td>accessories</td>\n",
       "    </tr>\n",
       "    <tr>\n",
       "      <th>2</th>\n",
       "      <td>3</td>\n",
       "      <td>Storite 2 Pack Moisture Proof Nylon Large Size...</td>\n",
       "      <td>accessories</td>\n",
       "    </tr>\n",
       "    <tr>\n",
       "      <th>3</th>\n",
       "      <td>4</td>\n",
       "      <td>GoTrippin Metal Luggage Weighing Scale Digital...</td>\n",
       "      <td>accessories</td>\n",
       "    </tr>\n",
       "    <tr>\n",
       "      <th>4</th>\n",
       "      <td>5</td>\n",
       "      <td>Safari Pentagon Trolley Bags for Travel, 55 cm...</td>\n",
       "      <td>accessories</td>\n",
       "    </tr>\n",
       "    <tr>\n",
       "      <th>...</th>\n",
       "      <td>...</td>\n",
       "      <td>...</td>\n",
       "      <td>...</td>\n",
       "    </tr>\n",
       "    <tr>\n",
       "      <th>41195</th>\n",
       "      <td>41196</td>\n",
       "      <td>Metro Women Beaded Sandals (35-3787)</td>\n",
       "      <td>appliances</td>\n",
       "    </tr>\n",
       "    <tr>\n",
       "      <th>41196</th>\n",
       "      <td>41197</td>\n",
       "      <td>Sharon by Khadim's Women Grey Heel Sandal</td>\n",
       "      <td>appliances</td>\n",
       "    </tr>\n",
       "    <tr>\n",
       "      <th>41197</th>\n",
       "      <td>41198</td>\n",
       "      <td>Denill Women And Girls Ankle Strap Fashion San...</td>\n",
       "      <td>appliances</td>\n",
       "    </tr>\n",
       "    <tr>\n",
       "      <th>41198</th>\n",
       "      <td>41199</td>\n",
       "      <td>RESTAYEL Woman Trending Stylish Fancy and Comf...</td>\n",
       "      <td>appliances</td>\n",
       "    </tr>\n",
       "    <tr>\n",
       "      <th>41199</th>\n",
       "      <td>41200</td>\n",
       "      <td>ASK - JS - LCD &amp; CO - Women Sling Heeled Sanda...</td>\n",
       "      <td>appliances</td>\n",
       "    </tr>\n",
       "  </tbody>\n",
       "</table>\n",
       "<p>41200 rows × 3 columns</p>\n",
       "</div>"
      ],
      "text/plain": [
       "       productId                                               name   \n",
       "0              1  GLUN Bolt Electronic Portable Fishing Hook Typ...  \\\n",
       "1              2  Boldfit Shoe Bag for Travel & Storage Travel O...   \n",
       "2              3  Storite 2 Pack Moisture Proof Nylon Large Size...   \n",
       "3              4  GoTrippin Metal Luggage Weighing Scale Digital...   \n",
       "4              5  Safari Pentagon Trolley Bags for Travel, 55 cm...   \n",
       "...          ...                                                ...   \n",
       "41195      41196               Metro Women Beaded Sandals (35-3787)   \n",
       "41196      41197          Sharon by Khadim's Women Grey Heel Sandal   \n",
       "41197      41198  Denill Women And Girls Ankle Strap Fashion San...   \n",
       "41198      41199  RESTAYEL Woman Trending Stylish Fancy and Comf...   \n",
       "41199      41200  ASK - JS - LCD & CO - Women Sling Heeled Sanda...   \n",
       "\n",
       "      main_category  \n",
       "0       accessories  \n",
       "1       accessories  \n",
       "2       accessories  \n",
       "3       accessories  \n",
       "4       accessories  \n",
       "...             ...  \n",
       "41195    appliances  \n",
       "41196    appliances  \n",
       "41197    appliances  \n",
       "41198    appliances  \n",
       "41199    appliances  \n",
       "\n",
       "[41200 rows x 3 columns]"
      ]
     },
     "execution_count": 63,
     "metadata": {},
     "output_type": "execute_result"
    }
   ],
   "source": [
    "products_df = products_df.join(updated_products['main_category'],on='productId')\n",
    "products_df"
   ]
  },
  {
   "cell_type": "code",
   "execution_count": 64,
   "metadata": {},
   "outputs": [],
   "source": [
    "for sc in main_categories:\n",
    "    products_df[sc] = products_df.main_category.transform(lambda x: int(sc in x))"
   ]
  },
  {
   "cell_type": "code",
   "execution_count": 65,
   "metadata": {},
   "outputs": [
    {
     "data": {
      "text/html": [
       "<div>\n",
       "<style scoped>\n",
       "    .dataframe tbody tr th:only-of-type {\n",
       "        vertical-align: middle;\n",
       "    }\n",
       "\n",
       "    .dataframe tbody tr th {\n",
       "        vertical-align: top;\n",
       "    }\n",
       "\n",
       "    .dataframe thead th {\n",
       "        text-align: right;\n",
       "    }\n",
       "</style>\n",
       "<table border=\"1\" class=\"dataframe\">\n",
       "  <thead>\n",
       "    <tr style=\"text-align: right;\">\n",
       "      <th></th>\n",
       "      <th>productId</th>\n",
       "      <th>name</th>\n",
       "      <th>main_category</th>\n",
       "      <th>beauty &amp; health</th>\n",
       "      <th>bags &amp; luggage</th>\n",
       "      <th>accessories</th>\n",
       "      <th>men's clothing</th>\n",
       "      <th>appliances</th>\n",
       "      <th>toys &amp; baby products</th>\n",
       "      <th>women's clothing</th>\n",
       "      <th>...</th>\n",
       "      <th>women's shoes</th>\n",
       "      <th>men's shoes</th>\n",
       "      <th>grocery &amp; gourmet foods</th>\n",
       "      <th>car &amp; motorbike</th>\n",
       "      <th>kids' fashion</th>\n",
       "      <th>tv, audio &amp; cameras</th>\n",
       "      <th>music</th>\n",
       "      <th>home &amp; kitchen</th>\n",
       "      <th>home, kitchen, pets</th>\n",
       "      <th>industrial supplies</th>\n",
       "    </tr>\n",
       "  </thead>\n",
       "  <tbody>\n",
       "    <tr>\n",
       "      <th>0</th>\n",
       "      <td>1</td>\n",
       "      <td>GLUN Bolt Electronic Portable Fishing Hook Typ...</td>\n",
       "      <td>accessories</td>\n",
       "      <td>0</td>\n",
       "      <td>0</td>\n",
       "      <td>1</td>\n",
       "      <td>0</td>\n",
       "      <td>0</td>\n",
       "      <td>0</td>\n",
       "      <td>0</td>\n",
       "      <td>...</td>\n",
       "      <td>0</td>\n",
       "      <td>0</td>\n",
       "      <td>0</td>\n",
       "      <td>0</td>\n",
       "      <td>0</td>\n",
       "      <td>0</td>\n",
       "      <td>0</td>\n",
       "      <td>0</td>\n",
       "      <td>0</td>\n",
       "      <td>0</td>\n",
       "    </tr>\n",
       "    <tr>\n",
       "      <th>1</th>\n",
       "      <td>2</td>\n",
       "      <td>Boldfit Shoe Bag for Travel &amp; Storage Travel O...</td>\n",
       "      <td>accessories</td>\n",
       "      <td>0</td>\n",
       "      <td>0</td>\n",
       "      <td>1</td>\n",
       "      <td>0</td>\n",
       "      <td>0</td>\n",
       "      <td>0</td>\n",
       "      <td>0</td>\n",
       "      <td>...</td>\n",
       "      <td>0</td>\n",
       "      <td>0</td>\n",
       "      <td>0</td>\n",
       "      <td>0</td>\n",
       "      <td>0</td>\n",
       "      <td>0</td>\n",
       "      <td>0</td>\n",
       "      <td>0</td>\n",
       "      <td>0</td>\n",
       "      <td>0</td>\n",
       "    </tr>\n",
       "    <tr>\n",
       "      <th>2</th>\n",
       "      <td>3</td>\n",
       "      <td>Storite 2 Pack Moisture Proof Nylon Large Size...</td>\n",
       "      <td>accessories</td>\n",
       "      <td>0</td>\n",
       "      <td>0</td>\n",
       "      <td>1</td>\n",
       "      <td>0</td>\n",
       "      <td>0</td>\n",
       "      <td>0</td>\n",
       "      <td>0</td>\n",
       "      <td>...</td>\n",
       "      <td>0</td>\n",
       "      <td>0</td>\n",
       "      <td>0</td>\n",
       "      <td>0</td>\n",
       "      <td>0</td>\n",
       "      <td>0</td>\n",
       "      <td>0</td>\n",
       "      <td>0</td>\n",
       "      <td>0</td>\n",
       "      <td>0</td>\n",
       "    </tr>\n",
       "  </tbody>\n",
       "</table>\n",
       "<p>3 rows × 23 columns</p>\n",
       "</div>"
      ],
      "text/plain": [
       "   productId                                               name main_category   \n",
       "0          1  GLUN Bolt Electronic Portable Fishing Hook Typ...   accessories  \\\n",
       "1          2  Boldfit Shoe Bag for Travel & Storage Travel O...   accessories   \n",
       "2          3  Storite 2 Pack Moisture Proof Nylon Large Size...   accessories   \n",
       "\n",
       "   beauty & health  bags & luggage  accessories  men's clothing  appliances   \n",
       "0                0               0            1               0           0  \\\n",
       "1                0               0            1               0           0   \n",
       "2                0               0            1               0           0   \n",
       "\n",
       "   toys & baby products  women's clothing  ...  women's shoes  men's shoes   \n",
       "0                     0                 0  ...              0            0  \\\n",
       "1                     0                 0  ...              0            0   \n",
       "2                     0                 0  ...              0            0   \n",
       "\n",
       "   grocery & gourmet foods  car & motorbike  kids' fashion   \n",
       "0                        0                0              0  \\\n",
       "1                        0                0              0   \n",
       "2                        0                0              0   \n",
       "\n",
       "   tv, audio & cameras  music  home & kitchen  home, kitchen, pets   \n",
       "0                    0      0               0                    0  \\\n",
       "1                    0      0               0                    0   \n",
       "2                    0      0               0                    0   \n",
       "\n",
       "   industrial supplies  \n",
       "0                    0  \n",
       "1                    0  \n",
       "2                    0  \n",
       "\n",
       "[3 rows x 23 columns]"
      ]
     },
     "execution_count": 65,
     "metadata": {},
     "output_type": "execute_result"
    }
   ],
   "source": [
    "products_df.head(3)"
   ]
  },
  {
   "cell_type": "code",
   "execution_count": 66,
   "metadata": {},
   "outputs": [],
   "source": [
    "products_category = products_df.drop(columns=['productId', 'name', 'main_category'])"
   ]
  },
  {
   "cell_type": "code",
   "execution_count": 67,
   "metadata": {},
   "outputs": [
    {
     "name": "stdout",
     "output_type": "stream",
     "text": [
      "Dimensions of our main category cosine similarity matrix: (41200, 41200)\n"
     ]
    }
   ],
   "source": [
    "cosine_sim = cosine_similarity(products_category, products_category)\n",
    "print(f\"Dimensions of our main category cosine similarity matrix: {cosine_sim.shape}\")"
   ]
  },
  {
   "cell_type": "code",
   "execution_count": 68,
   "metadata": {},
   "outputs": [
    {
     "data": {
      "text/plain": [
       "array([1., 1., 1., ..., 0., 0., 0.])"
      ]
     },
     "execution_count": 68,
     "metadata": {},
     "output_type": "execute_result"
    }
   ],
   "source": [
    "cosine_sim[0]"
   ]
  },
  {
   "cell_type": "code",
   "execution_count": 69,
   "metadata": {},
   "outputs": [],
   "source": [
    "def product_finder(name):\n",
    "    all_product_name = products_df['name'].tolist()\n",
    "    closest_match = process.extractOne(name, all_product_name)\n",
    "    return closest_match[0]"
   ]
  },
  {
   "cell_type": "code",
   "execution_count": 70,
   "metadata": {},
   "outputs": [],
   "source": [
    "product_idx = dict(zip(products_df['name'], list(products_df.index)))"
   ]
  },
  {
   "cell_type": "code",
   "execution_count": 71,
   "metadata": {},
   "outputs": [
    {
     "data": {
      "text/plain": [
       "'Bag'"
      ]
     },
     "execution_count": 71,
     "metadata": {},
     "output_type": "execute_result"
    }
   ],
   "source": [
    "product_finder(\"Shoe bag\")"
   ]
  },
  {
   "cell_type": "code",
   "execution_count": 72,
   "metadata": {},
   "outputs": [],
   "source": [
    "def get_content_based_recommendations(title_string, n_recommendations=5):\n",
    "    name = product_finder(title_string)\n",
    "    print(name)\n",
    "    idx = product_idx[name]\n",
    "    sim_scores = list(enumerate(cosine_sim[idx]))\n",
    "    # print(sim_scores)\n",
    "    sim_scores = sorted(sim_scores, key=lambda x:x[1], reverse=True)\n",
    "    # print(sim_scores)\n",
    "    sim_scores = sim_scores[1:(n_recommendations+1)]\n",
    "    similar_products = [i[0] for i in sim_scores]\n",
    "    print(similar_products)\n",
    "    print(f\"Because you like product, {name}:\")\n",
    "    print(products_df['name'].iloc[similar_products])"
   ]
  },
  {
   "cell_type": "code",
   "execution_count": 73,
   "metadata": {},
   "outputs": [
    {
     "name": "stdout",
     "output_type": "stream",
     "text": [
      "Bag\n",
      "[1, 2, 3, 4, 5]\n",
      "Because you like product, Bag:\n",
      "1    Boldfit Shoe Bag for Travel & Storage Travel O...\n",
      "2    Storite 2 Pack Moisture Proof Nylon Large Size...\n",
      "3    GoTrippin Metal Luggage Weighing Scale Digital...\n",
      "4    Safari Pentagon Trolley Bags for Travel, 55 cm...\n",
      "5    WildHorn Brown RFID Blocking Leather Wallet fo...\n",
      "Name: name, dtype: object\n"
     ]
    }
   ],
   "source": [
    "get_content_based_recommendations(\"Bags with trolleys\")"
   ]
  }
 ],
 "metadata": {
  "kernelspec": {
   "display_name": "dl",
   "language": "python",
   "name": "python3"
  },
  "language_info": {
   "codemirror_mode": {
    "name": "ipython",
    "version": 3
   },
   "file_extension": ".py",
   "mimetype": "text/x-python",
   "name": "python",
   "nbconvert_exporter": "python",
   "pygments_lexer": "ipython3",
   "version": "3.9.17"
  }
 },
 "nbformat": 4,
 "nbformat_minor": 2
}
